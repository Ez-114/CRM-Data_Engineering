{
  "cells": [
    {
      "cell_type": "markdown",
      "source": [
        "# Import pyspark libs"
      ],
      "metadata": {
        "nteract": {
          "transient": {
            "deleting": false
          }
        }
      }
    },
    {
      "cell_type": "code",
      "source": [
        "%%pyspark\r\n",
        "import random\r\n",
        "from pyspark.sql import SparkSession\r\n",
        "from pyspark.sql.functions import col, lit, when, current_timestamp, trim, udf\r\n",
        "from pyspark.sql.types import DateType\r\n",
        "from datetime import datetime, timedelta\r\n",
        "\r\n",
        "SRC_PARQUET_DIR = 'abfss://depi3@depi3.dfs.core.windows.net/Bronze Layer'\r\n",
        "DIST_PARQUET_DIR = 'abfss://depi3@depi3.dfs.core.windows.net/Silver Layer'"
      ],
      "outputs": [
        {
          "output_type": "display_data",
          "data": {
            "application/vnd.livy.statement-meta+json": {
              "spark_pool": "Depi",
              "statement_id": 2,
              "statement_ids": [
                2
              ],
              "state": "finished",
              "livy_statement_state": "available",
              "spark_jobs": null,
              "session_id": "7",
              "normalized_state": "finished",
              "queued_time": "2024-10-17T12:30:39.7868277Z",
              "session_start_time": "2024-10-17T12:30:39.8396178Z",
              "execution_start_time": "2024-10-17T12:33:48.0094945Z",
              "execution_finish_time": "2024-10-17T12:33:48.1753567Z",
              "parent_msg_id": "12e92f1a-3387-476b-890b-1464075225a3"
            },
            "text/plain": "StatementMeta(Depi, 7, 2, Finished, Available, Finished)"
          },
          "metadata": {}
        }
      ],
      "execution_count": 1,
      "metadata": {
        "microsoft": {
          "language": "python"
        }
      }
    },
    {
      "cell_type": "markdown",
      "source": [
        "# Read Data from Parquet files"
      ],
      "metadata": {
        "nteract": {
          "transient": {
            "deleting": false
          }
        }
      }
    },
    {
      "cell_type": "code",
      "source": [
        "accounts_df = spark.read.load(f'{SRC_PARQUET_DIR}/Accounts/part-*.snappy.parquet', format='parquet')\r\n",
        "major_df = spark.read.load(f'{SRC_PARQUET_DIR}/Major/part-*.snappy.parquet', format='parquet')\r\n",
        "manager_df = spark.read.load(f'{SRC_PARQUET_DIR}/Manager/part-*.snappy.parquet', format='parquet')\r\n",
        "office_df = spark.read.load(f'{SRC_PARQUET_DIR}/Office/part-*.snappy.parquet', foramt='parquet')\r\n",
        "sales_agent_df = spark.read.load(f'{SRC_PARQUET_DIR}/Sales Agent/part-*.snappy.parquet', format='parquet')\r\n",
        "sales_pipeline_df = spark.read.load(f'{SRC_PARQUET_DIR}/Sales PipeLine/part-*.snappy.parquet', format='parquet')\r\n",
        "product_df = spark.read.load(f'{SRC_PARQUET_DIR}/Products/part-*.snappy.parquet', format='parquet')\r\n",
        "regional_office_df = spark.read.load(f'{SRC_PARQUET_DIR}/Regional Office/part-*.snappy.parquet', format='parquet')\r\n",
        "sector_df = spark.read.load(f'{SRC_PARQUET_DIR}/Sector/part-*.snappy.parquet', format='parquet')\r\n",
        "series_df = spark.read.load(f'{SRC_PARQUET_DIR}/Series/part-*.snappy.parquet', format='parquet')"
      ],
      "outputs": [
        {
          "output_type": "display_data",
          "data": {
            "application/vnd.livy.statement-meta+json": {
              "spark_pool": "Depi",
              "statement_id": 3,
              "statement_ids": [
                3
              ],
              "state": "finished",
              "livy_statement_state": "available",
              "spark_jobs": null,
              "session_id": "7",
              "normalized_state": "finished",
              "queued_time": "2024-10-17T12:30:39.7915731Z",
              "session_start_time": null,
              "execution_start_time": "2024-10-17T12:33:48.3407234Z",
              "execution_finish_time": "2024-10-17T12:34:13.507051Z",
              "parent_msg_id": "af440322-02ac-4996-a656-1a2628e961bf"
            },
            "text/plain": "StatementMeta(Depi, 7, 3, Finished, Available, Finished)"
          },
          "metadata": {}
        }
      ],
      "execution_count": 2,
      "metadata": {
        "jupyter": {
          "source_hidden": false,
          "outputs_hidden": false
        },
        "nteract": {
          "transient": {
            "deleting": false
          }
        }
      }
    },
    {
      "cell_type": "code",
      "source": [
        "display(accounts_df.limit(10))"
      ],
      "outputs": [
        {
          "output_type": "display_data",
          "data": {
            "application/vnd.livy.statement-meta+json": {
              "spark_pool": "Depi",
              "statement_id": 4,
              "statement_ids": [
                4
              ],
              "state": "finished",
              "livy_statement_state": "available",
              "spark_jobs": null,
              "session_id": "7",
              "normalized_state": "finished",
              "queued_time": "2024-10-17T12:30:39.7926232Z",
              "session_start_time": null,
              "execution_start_time": "2024-10-17T12:34:13.6859137Z",
              "execution_finish_time": "2024-10-17T12:34:21.0365281Z",
              "parent_msg_id": "fa199ceb-f9e4-40e8-85ea-394a29d97daf"
            },
            "text/plain": "StatementMeta(Depi, 7, 4, Finished, Available, Finished)"
          },
          "metadata": {}
        },
        {
          "output_type": "display_data",
          "data": {
            "application/vnd.synapse.widget-view+json": {
              "widget_id": "51519910-98c7-45d3-bba6-9608ad14c16e",
              "widget_type": "Synapse.DataFrame"
            },
            "text/plain": "SynapseWidget(Synapse.DataFrame, 51519910-98c7-45d3-bba6-9608ad14c16e)"
          },
          "metadata": {}
        }
      ],
      "execution_count": 3,
      "metadata": {
        "jupyter": {
          "source_hidden": false,
          "outputs_hidden": false
        },
        "nteract": {
          "transient": {
            "deleting": false
          }
        },
        "collapsed": false
      }
    },
    {
      "cell_type": "markdown",
      "source": [
        "# Clean data (Preprocessing)\r\n",
        "\r\n",
        "- Drop Duplicates\r\n",
        "- Replace NULLs\r\n",
        "- Strip strings"
      ],
      "metadata": {
        "nteract": {
          "transient": {
            "deleting": false
          }
        }
      }
    },
    {
      "cell_type": "code",
      "source": [
        "data_frames = [\r\n",
        "    accounts_df, major_df, manager_df,\r\n",
        "    office_df, sales_agent_df, sales_pipeline_df,\r\n",
        "    product_df, regional_office_df,\r\n",
        "    sector_df, series_df\r\n",
        "]\r\n",
        "\r\n",
        "def transform_and_clean_data(df):\r\n",
        "    \"\"\"Clean and transform the Spark DataFrame.\"\"\"\r\n",
        "    # 1. Drop duplicate rows\r\n",
        "    df = df.dropDuplicates()\r\n",
        "\r\n",
        "    # 2. Fill missing numerical columns with 0\r\n",
        "    numerical_cols = [f.name for f in df.schema.fields if str(f.dataType) in (\"IntegerType\", \"DoubleType\", \"LongType\")]\r\n",
        "    for col_name in numerical_cols:\r\n",
        "        df = df.withColumn(col_name, when(col(col_name).isNull(), lit(0)).otherwise(col(col_name)))\r\n",
        "\r\n",
        "    # 3. Trim whitespace from string columns\r\n",
        "    str_cols = [f.name for f in df.schema.fields if str(f.dataType) == \"StringType\"]\r\n",
        "    for col_name in str_cols:\r\n",
        "        df = df.withColumn(col_name, trim(col(col_name)))\r\n",
        "\r\n",
        "    return df\r\n",
        "\r\n",
        "\r\n",
        "for df in data_frames:\r\n",
        "    df = transform_and_clean_data(df)"
      ],
      "outputs": [
        {
          "output_type": "display_data",
          "data": {
            "application/vnd.livy.statement-meta+json": {
              "spark_pool": "Depi",
              "statement_id": 5,
              "statement_ids": [
                5
              ],
              "state": "finished",
              "livy_statement_state": "available",
              "spark_jobs": null,
              "session_id": "7",
              "normalized_state": "finished",
              "queued_time": "2024-10-17T12:30:39.7959547Z",
              "session_start_time": null,
              "execution_start_time": "2024-10-17T12:34:21.1950341Z",
              "execution_finish_time": "2024-10-17T12:34:21.3615778Z",
              "parent_msg_id": "ff5d9255-5d07-4c0e-9174-775a1943d421"
            },
            "text/plain": "StatementMeta(Depi, 7, 5, Finished, Available, Finished)"
          },
          "metadata": {}
        }
      ],
      "execution_count": 4,
      "metadata": {
        "jupyter": {
          "source_hidden": false,
          "outputs_hidden": false
        },
        "nteract": {
          "transient": {
            "deleting": false
          }
        }
      }
    },
    {
      "cell_type": "markdown",
      "source": [
        "# Data Generation\r\n",
        "\r\n",
        "Generated dates for `StartDate` Column in `Product` table"
      ],
      "metadata": {
        "nteract": {
          "transient": {
            "deleting": false
          }
        }
      }
    },
    {
      "cell_type": "code",
      "source": [
        "def generate_random_date(start_date, end_date):\r\n",
        "    \"\"\"\r\n",
        "    Generate a random date between two given dates.\r\n",
        "\r\n",
        "    Parameters:\r\n",
        "    start_date (str): The start date in 'YYYY-MM-DD' format.\r\n",
        "    end_date (str): The end date in 'YYYY-MM-DD' format.\r\n",
        "\r\n",
        "    Returns:\r\n",
        "    datetime: A random date between start_date and end_date.\r\n",
        "    \"\"\"\r\n",
        "    start = datetime.strptime(start_date, \"%Y-%m-%d\")\r\n",
        "    end = datetime.strptime(end_date, \"%Y-%m-%d\")\r\n",
        "    delta = end - start\r\n",
        "    random_days = random.randint(0, delta.days)\r\n",
        "\r\n",
        "    return start + timedelta(days=random_days)\r\n",
        "\r\n",
        "generate_random_date_udf = udf(lambda: generate_random_date(\"2020-01-01\", \"2023-12-31\"), DateType())\r\n",
        "product_df = product_df.withColumn('StartDate', generate_random_date_udf())\r\n",
        "\r\n",
        "display(product_df.limit(10))"
      ],
      "outputs": [
        {
          "output_type": "display_data",
          "data": {
            "application/vnd.livy.statement-meta+json": {
              "spark_pool": "Depi",
              "statement_id": 6,
              "statement_ids": [
                6
              ],
              "state": "finished",
              "livy_statement_state": "available",
              "spark_jobs": null,
              "session_id": "7",
              "normalized_state": "finished",
              "queued_time": "2024-10-17T12:30:39.7996991Z",
              "session_start_time": null,
              "execution_start_time": "2024-10-17T12:34:21.5118037Z",
              "execution_finish_time": "2024-10-17T12:34:30.1930891Z",
              "parent_msg_id": "df733c4c-db3c-4d94-b993-a7c6aee6b3af"
            },
            "text/plain": "StatementMeta(Depi, 7, 6, Finished, Available, Finished)"
          },
          "metadata": {}
        },
        {
          "output_type": "display_data",
          "data": {
            "application/vnd.synapse.widget-view+json": {
              "widget_id": "df2fdf2b-aaf5-4b80-972a-bd6b5ed2a572",
              "widget_type": "Synapse.DataFrame"
            },
            "text/plain": "SynapseWidget(Synapse.DataFrame, df2fdf2b-aaf5-4b80-972a-bd6b5ed2a572)"
          },
          "metadata": {}
        }
      ],
      "execution_count": 5,
      "metadata": {
        "jupyter": {
          "source_hidden": false,
          "outputs_hidden": false
        },
        "nteract": {
          "transient": {
            "deleting": false
          }
        },
        "collapsed": false
      }
    },
    {
      "cell_type": "markdown",
      "source": [
        "# Final Changes\r\n",
        "\r\n",
        "- Changed `engage_date` and `close_date` in `Sales_PipeLine` table\r\n",
        "- Saved the tables in Parquet Files in the Selver Layer Folder"
      ],
      "metadata": {
        "nteract": {
          "transient": {
            "deleting": false
          }
        }
      }
    },
    {
      "cell_type": "code",
      "source": [
        "sales_pipeline_df = sales_pipeline_df.withColumn(\r\n",
        "    \"engage_date\",\r\n",
        "    when(sales_pipeline_df[\"engage_date\"] < \"1900-01-01\", \"2004-01-01\").otherwise(sales_pipeline_df[\"engage_date\"])\r\n",
        ")\r\n",
        "sales_pipeline_df = sales_pipeline_df.withColumn(\r\n",
        "    \"close_date\",\r\n",
        "    when(sales_pipeline_df[\"close_date\"] < \"1900-01-01\", \"2004-01-01\").otherwise(sales_pipeline_df[\"close_date\"])\r\n",
        ")\r\n",
        "\r\n",
        "accounts_df.write.mode(\"overwrite\").parquet(f'{DIST_PARQUET_DIR}/Accounts/')\r\n",
        "major_df.write.mode(\"overwrite\").parquet(f'{DIST_PARQUET_DIR}/Major/')\r\n",
        "manager_df.write.mode(\"overwrite\").parquet(f'{DIST_PARQUET_DIR}/Manager/')\r\n",
        "office_df.write.mode(\"overwrite\").parquet(f'{DIST_PARQUET_DIR}/Office/')\r\n",
        "sales_agent_df.write.mode(\"overwrite\").parquet(f'{DIST_PARQUET_DIR}/Sales Agent/')\r\n",
        "sales_pipeline_df.write.mode(\"overwrite\").parquet(f'{DIST_PARQUET_DIR}/Sales PipeLine/')\r\n",
        "regional_office_df.write.mode(\"overwrite\").parquet(f'{DIST_PARQUET_DIR}/Regional Office/')\r\n",
        "sector_df.write.mode(\"overwrite\").parquet(f'{DIST_PARQUET_DIR}/Sector/')\r\n",
        "series_df.write.mode(\"overwrite\").parquet(f'{DIST_PARQUET_DIR}/Series/')\r\n",
        "product_df.write.mode(\"overwrite\").parquet(f'{DIST_PARQUET_DIR}/Products/')"
      ],
      "outputs": [
        {
          "output_type": "display_data",
          "data": {
            "application/vnd.livy.statement-meta+json": {
              "spark_pool": "Depi",
              "statement_id": 8,
              "statement_ids": [
                8
              ],
              "state": "finished",
              "livy_statement_state": "available",
              "spark_jobs": null,
              "session_id": "7",
              "normalized_state": "finished",
              "queued_time": "2024-10-17T12:36:07.8848341Z",
              "session_start_time": null,
              "execution_start_time": "2024-10-17T12:36:08.0336469Z",
              "execution_finish_time": "2024-10-17T12:36:09.9040836Z",
              "parent_msg_id": "5e2b3e14-8ace-43a3-be26-8f458b4b59d1"
            },
            "text/plain": "StatementMeta(Depi, 7, 8, Finished, Available, Finished)"
          },
          "metadata": {}
        }
      ],
      "execution_count": 7,
      "metadata": {
        "jupyter": {
          "source_hidden": false,
          "outputs_hidden": false
        },
        "nteract": {
          "transient": {
            "deleting": false
          }
        }
      }
    }
  ],
  "metadata": {
    "language_info": {
      "name": "python"
    },
    "kernelspec": {
      "name": "synapse_pyspark",
      "language": "Python",
      "display_name": "Synapse PySpark"
    },
    "kernel_info": {
      "name": "synapse_pyspark"
    },
    "description": null,
    "save_output": true,
    "synapse_widget": {
      "version": "0.1",
      "state": {
        "51519910-98c7-45d3-bba6-9608ad14c16e": {
          "type": "Synapse.DataFrame",
          "sync_state": {
            "table": {
              "rows": [
                {
                  "0": "1",
                  "1": "Acme Corporation",
                  "2": "8",
                  "3": "1996",
                  "4": "1100.04",
                  "5": "2822",
                  "6": "14",
                  "7": "0"
                },
                {
                  "0": "2",
                  "1": "Betasoloin",
                  "2": "4",
                  "3": "1999",
                  "4": "251.41",
                  "5": "495",
                  "6": "14",
                  "7": "0"
                },
                {
                  "0": "3",
                  "1": "Betatech",
                  "2": "4",
                  "3": "1986",
                  "4": "647.18",
                  "5": "1185",
                  "6": "7",
                  "7": "0"
                },
                {
                  "0": "4",
                  "1": "Bioholding",
                  "2": "4",
                  "3": "2012",
                  "4": "587.34",
                  "5": "1356",
                  "6": "11",
                  "7": "0"
                },
                {
                  "0": "5",
                  "1": "Bioplex",
                  "2": "4",
                  "3": "1991",
                  "4": "326.82",
                  "5": "1016",
                  "6": "14",
                  "7": "0"
                },
                {
                  "0": "6",
                  "1": "Blackzim",
                  "2": "5",
                  "3": "2009",
                  "4": "497.11",
                  "5": "1588",
                  "6": "14",
                  "7": "0"
                },
                {
                  "0": "7",
                  "1": "Bluth Company",
                  "2": "8",
                  "3": "1993",
                  "4": "1242.32",
                  "5": "3027",
                  "6": "14",
                  "7": "1"
                },
                {
                  "0": "8",
                  "1": "Bubba Gump",
                  "2": "7",
                  "3": "2002",
                  "4": "987.39",
                  "5": "2253",
                  "6": "14",
                  "7": "0"
                },
                {
                  "0": "9",
                  "1": "Cancity",
                  "2": "5",
                  "3": "2001",
                  "4": "718.62",
                  "5": "2448",
                  "6": "14",
                  "7": "0"
                },
                {
                  "0": "10",
                  "1": "Cheers",
                  "2": "1",
                  "3": "1993",
                  "4": "4269.9",
                  "5": "6472",
                  "6": "14",
                  "7": "4"
                }
              ],
              "schema": [
                {
                  "key": "0",
                  "name": "AccountID",
                  "type": "int"
                },
                {
                  "key": "1",
                  "name": "account",
                  "type": "string"
                },
                {
                  "key": "2",
                  "name": "sectorID",
                  "type": "int"
                },
                {
                  "key": "3",
                  "name": "year_established",
                  "type": "int"
                },
                {
                  "key": "4",
                  "name": "revenue",
                  "type": "float"
                },
                {
                  "key": "5",
                  "name": "employees",
                  "type": "int"
                },
                {
                  "key": "6",
                  "name": "OfficeID",
                  "type": "int"
                },
                {
                  "key": "7",
                  "name": "subsidiary_of_ID",
                  "type": "int"
                }
              ],
              "truncated": false
            },
            "isSummary": false,
            "language": "scala",
            "wranglerEntryContext": {
              "dataframeType": "pyspark"
            }
          },
          "persist_state": {
            "view": {
              "type": "details",
              "tableOptions": {},
              "chartOptions": {
                "chartType": "bar",
                "aggregationType": "sum",
                "categoryFieldKeys": [
                  "1"
                ],
                "seriesFieldKeys": [
                  "0"
                ],
                "isStacked": false
              }
            }
          }
        },
        "df2fdf2b-aaf5-4b80-972a-bd6b5ed2a572": {
          "type": "Synapse.DataFrame",
          "sync_state": {
            "table": {
              "rows": [
                {
                  "0": "1",
                  "1": "GTX Basic",
                  "2": "550",
                  "3": "1",
                  "4": "2023-01-16"
                },
                {
                  "0": "2",
                  "1": "GTX Pro",
                  "2": "4821",
                  "3": "1",
                  "4": "2021-12-08"
                },
                {
                  "0": "3",
                  "1": "MG Special",
                  "2": "55",
                  "3": "2",
                  "4": "2021-12-28"
                },
                {
                  "0": "4",
                  "1": "MG Advanced",
                  "2": "3393",
                  "3": "2",
                  "4": "2023-06-12"
                },
                {
                  "0": "5",
                  "1": "GTX Plus Pro",
                  "2": "5482",
                  "3": "1",
                  "4": "2021-02-21"
                },
                {
                  "0": "6",
                  "1": "GTX Plus Basic",
                  "2": "1096",
                  "3": "1",
                  "4": "2021-03-13"
                },
                {
                  "0": "7",
                  "1": "GTK 500",
                  "2": "26768",
                  "3": "3",
                  "4": "2020-11-17"
                }
              ],
              "schema": [
                {
                  "key": "0",
                  "name": "ProductID",
                  "type": "int"
                },
                {
                  "key": "1",
                  "name": "product",
                  "type": "string"
                },
                {
                  "key": "2",
                  "name": "sales_price",
                  "type": "int"
                },
                {
                  "key": "3",
                  "name": "SeriesID",
                  "type": "int"
                },
                {
                  "key": "4",
                  "name": "StartDate",
                  "type": "date"
                }
              ],
              "truncated": false
            },
            "isSummary": false,
            "language": "scala",
            "wranglerEntryContext": {
              "dataframeType": "pyspark"
            }
          },
          "persist_state": {
            "view": {
              "type": "details",
              "tableOptions": {},
              "chartOptions": {
                "chartType": "bar",
                "aggregationType": "sum",
                "categoryFieldKeys": [
                  "1"
                ],
                "seriesFieldKeys": [
                  "0"
                ],
                "isStacked": false
              }
            }
          }
        }
      }
    }
  },
  "nbformat": 4,
  "nbformat_minor": 2
}