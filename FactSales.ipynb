{
  "cells": [
    {
      "cell_type": "code",
      "source": [
        "%%pyspark\r\n",
        "import random\r\n",
        "from pyspark.sql import SparkSession\r\n",
        "from pyspark.sql.functions import (\r\n",
        "    current_timestamp, trim, udf, col, lit, row_number, date_format, dayofweek, dayofmonth, dayofyear,\r\n",
        "    month, year, weekofyear, when, concat, quarter\r\n",
        ")\r\n",
        "from pyspark.sql.types import DateType, FloatType, IntegerType\r\n",
        "from pyspark.sql.window import Window\r\n",
        "from datetime import datetime, timedelta\r\n",
        "\r\n",
        "SRC_PARQUET_DIR = 'abfss://depi3@depi3.dfs.core.windows.net/Gold Layer'\r\n",
        "DIST_PARQUET_DIR = 'abfss://depi3@depi3.dfs.core.windows.net/Gold Layer'"
      ],
      "outputs": [
        {
          "output_type": "display_data",
          "data": {
            "application/vnd.livy.statement-meta+json": {
              "spark_pool": "Depi",
              "statement_id": 14,
              "statement_ids": [
                14
              ],
              "state": "finished",
              "livy_statement_state": "available",
              "spark_jobs": null,
              "session_id": "22",
              "normalized_state": "finished",
              "queued_time": "2024-10-18T17:37:14.0310229Z",
              "session_start_time": null,
              "execution_start_time": "2024-10-18T17:37:14.1944413Z",
              "execution_finish_time": "2024-10-18T17:37:14.3677817Z",
              "parent_msg_id": "d0b2791e-c4fd-4202-a394-2462b237c40b"
            },
            "text/plain": "StatementMeta(Depi, 22, 14, Finished, Available, Finished)"
          },
          "metadata": {}
        }
      ],
      "execution_count": 39,
      "metadata": {
        "microsoft": {
          "language": "python"
        }
      }
    },
    {
      "cell_type": "code",
      "source": [
        "Dim_Accounts = spark.read.load(f'{SRC_PARQUET_DIR}/DimAccounts/part-*.snappy.parquet', format='parquet')\r\n",
        "Dim_Products = spark.read.load(f'{SRC_PARQUET_DIR}/DimProducts/part-*.snappy.parquet', format='parquet')\r\n",
        "Dim_Sales_Agent = spark.read.load(f'{SRC_PARQUET_DIR}/DimSalesAgent/part-*.snappy.parquet', format='parquet')\r\n",
        "Dim_Sales_Pipeline = spark.read.load(f'{SRC_PARQUET_DIR}/DimSalesPipeLine/part-*.snappy.parquet', format='parquet')\r\n",
        "Dim_time = spark.read.load(f'{SRC_PARQUET_DIR}/DimTime/part-*.snappy.parquet', format='parquet')"
      ],
      "outputs": [
        {
          "output_type": "display_data",
          "data": {
            "application/vnd.livy.statement-meta+json": {
              "spark_pool": "Depi",
              "statement_id": 3,
              "statement_ids": [
                3
              ],
              "state": "finished",
              "livy_statement_state": "available",
              "spark_jobs": null,
              "session_id": "22",
              "normalized_state": "finished",
              "queued_time": "2024-10-18T17:15:28.1155136Z",
              "session_start_time": null,
              "execution_start_time": "2024-10-18T17:18:34.4044355Z",
              "execution_finish_time": "2024-10-18T17:18:59.5629202Z",
              "parent_msg_id": "bc9ba7b1-933a-45f1-8760-0d27fbef74c0"
            },
            "text/plain": "StatementMeta(Depi, 22, 3, Finished, Available, Finished)"
          },
          "metadata": {}
        }
      ],
      "execution_count": 28,
      "metadata": {
        "jupyter": {
          "source_hidden": false,
          "outputs_hidden": false
        },
        "nteract": {
          "transient": {
            "deleting": false
          }
        }
      }
    },
    {
      "cell_type": "code",
      "source": [
        "Dim_Accounts.createOrReplaceTempView(\"accounts\")\r\n",
        "Dim_Products.createOrReplaceTempView(\"products\")\r\n",
        "Dim_Sales_Agent.createOrReplaceTempView(\"sales_agent\")\r\n",
        "Dim_Sales_Pipeline.createOrReplaceTempView(\"sales_pipeline\")\r\n",
        "Dim_time.createOrReplaceTempView(\"time\")"
      ],
      "outputs": [
        {
          "output_type": "display_data",
          "data": {
            "application/vnd.livy.statement-meta+json": {
              "spark_pool": "Depi",
              "statement_id": 4,
              "statement_ids": [
                4
              ],
              "state": "finished",
              "livy_statement_state": "available",
              "spark_jobs": null,
              "session_id": "22",
              "normalized_state": "finished",
              "queued_time": "2024-10-18T17:15:28.2648095Z",
              "session_start_time": null,
              "execution_start_time": "2024-10-18T17:18:59.7292039Z",
              "execution_finish_time": "2024-10-18T17:19:00.8350066Z",
              "parent_msg_id": "75887633-b05a-49b9-8f2d-6b8b2c7f12e4"
            },
            "text/plain": "StatementMeta(Depi, 22, 4, Finished, Available, Finished)"
          },
          "metadata": {}
        }
      ],
      "execution_count": 29,
      "metadata": {
        "jupyter": {
          "source_hidden": false,
          "outputs_hidden": false
        },
        "nteract": {
          "transient": {
            "deleting": false
          }
        }
      }
    },
    {
      "cell_type": "code",
      "source": [
        "print(Dim_Accounts.columns)\r\n",
        "print(Dim_Products.columns)\r\n",
        "print(Dim_Sales_Agent.columns)\r\n",
        "print(Dim_Sales_Pipeline.columns)\r\n",
        "print(Dim_time.columns)"
      ],
      "outputs": [
        {
          "output_type": "display_data",
          "data": {
            "application/vnd.livy.statement-meta+json": {
              "spark_pool": "Depi",
              "statement_id": 5,
              "statement_ids": [
                5
              ],
              "state": "finished",
              "livy_statement_state": "available",
              "spark_jobs": null,
              "session_id": "22",
              "normalized_state": "finished",
              "queued_time": "2024-10-18T17:15:28.597695Z",
              "session_start_time": null,
              "execution_start_time": "2024-10-18T17:19:00.9860247Z",
              "execution_finish_time": "2024-10-18T17:19:01.1640048Z",
              "parent_msg_id": "6dc32d7e-830a-4f31-953d-15e6cb855584"
            },
            "text/plain": "StatementMeta(Depi, 22, 5, Finished, Available, Finished)"
          },
          "metadata": {}
        },
        {
          "output_type": "stream",
          "name": "stdout",
          "text": [
            "['SrAccountID', 'AccountID', 'account', 'year_established', 'revenue', 'employees', 'Subsidary_of', 'SectorName', 'OfficeLocation']\n['SrProductID', 'ProductID', 'product', 'sales_price', 'StartDate', 'Series', 'EndDate']\n['SrAgentID', 'SalesagentID', 'Salesagent', 'Manager', 'RegionalOffice']\n['SrSalesID', 'opportunity_ID', 'deal_stage', 'engage', 'close_date', 'close_value', 'CreatedAt']\n['date', 'timekey', 'dayofweek', 'dayofmonth', 'dayofyear', 'Month', 'MonthName', 'quarter', 'Year', 'WeekofYear', 'ISWeekend', 'ISHoliday', 'HolidayName']\n"
          ]
        }
      ],
      "execution_count": 30,
      "metadata": {
        "jupyter": {
          "source_hidden": false,
          "outputs_hidden": false
        },
        "nteract": {
          "transient": {
            "deleting": false
          }
        }
      }
    },
    {
      "cell_type": "code",
      "source": [
        "Fact_Sales = spark.sql(\"\"\"\r\n",
        "SELECT\r\n",
        "    ROW_NUMBER() OVER (ORDER BY A.SrAccountID) FactSalesID,\r\n",
        "    A.SrAccountID,\r\n",
        "    P.SrProductID,\r\n",
        "    SA.SragentID,\r\n",
        "    T.timekey,\r\n",
        "    SP.SrSalesID,\r\n",
        "    P.sales_price,\r\n",
        "    COALESCE(P.Series, 'GTX') Series,\r\n",
        "    A.SectorName,\r\n",
        "    A.revenue,\r\n",
        "    SP.deal_stage,\r\n",
        "    SP.engage,\r\n",
        "    SP.close_date,\r\n",
        "    SP.close_value\r\n",
        "FROM\r\n",
        "    sales_agent SA\r\n",
        "LEFT JOIN\r\n",
        "    accounts A\r\n",
        "    ON SA.SalesagentID = A.AccountID\r\n",
        "LEFT JOIN\r\n",
        "    products P\r\n",
        "    ON SA.SalesagentID = P.ProductID\r\n",
        "LEFT JOIN\r\n",
        "    sales_pipeline SP\r\n",
        "    ON SP.SrSalesID = SA.SalesagentID\r\n",
        "LEFT JOIN\r\n",
        "    time T\r\n",
        "    ON T.timekey = SA.SalesagentID\r\n",
        "\"\"\")\r\n",
        "\r\n",
        "def generate_random_price():\r\n",
        "    return round(random.uniform(10, 500), 2)\r\n",
        "\r\n",
        "generate_price_udf = udf(generate_random_price, FloatType())\r\n",
        "\r\n",
        "def generate_random_id():\r\n",
        "    return random.randint(1, 35)\r\n",
        "\r\n",
        "generate_id_udf = udf(generate_random_id, IntegerType())\r\n",
        "\r\n",
        "Fact_Sales = Fact_Sales.withColumn('sales_price', generate_price_udf())\r\n",
        "Fact_Sales = Fact_Sales.withColumn('SrProductID', generate_id_udf())\r\n",
        "Fact_Sales = Fact_Sales.withColumn('timekey', generate_id_udf())\r\n",
        "\r\n",
        "display(Fact_Sales.limit(100))"
      ],
      "outputs": [
        {
          "output_type": "display_data",
          "data": {
            "application/vnd.livy.statement-meta+json": {
              "spark_pool": "Depi",
              "statement_id": 15,
              "statement_ids": [
                15
              ],
              "state": "finished",
              "livy_statement_state": "available",
              "spark_jobs": null,
              "session_id": "22",
              "normalized_state": "finished",
              "queued_time": "2024-10-18T17:37:19.2129788Z",
              "session_start_time": null,
              "execution_start_time": "2024-10-18T17:37:19.384661Z",
              "execution_finish_time": "2024-10-18T17:37:22.2126622Z",
              "parent_msg_id": "4d5dfcf5-4134-41c4-9441-c50c8c20939c"
            },
            "text/plain": "StatementMeta(Depi, 22, 15, Finished, Available, Finished)"
          },
          "metadata": {}
        },
        {
          "output_type": "display_data",
          "data": {
            "application/vnd.synapse.widget-view+json": {
              "widget_id": "84fd7268-2ff6-4341-b78d-f7d665e73c58",
              "widget_type": "Synapse.DataFrame"
            },
            "text/plain": "SynapseWidget(Synapse.DataFrame, 84fd7268-2ff6-4341-b78d-f7d665e73c58)"
          },
          "metadata": {}
        }
      ],
      "execution_count": 40,
      "metadata": {
        "jupyter": {
          "source_hidden": false,
          "outputs_hidden": false
        },
        "nteract": {
          "transient": {
            "deleting": false
          }
        },
        "collapsed": false
      }
    },
    {
      "cell_type": "code",
      "source": [
        "Fact_Sales.write.mode(\"overwrite\").parquet(f'{DIST_PARQUET_DIR}/FactSales/')"
      ],
      "outputs": [
        {
          "output_type": "display_data",
          "data": {
            "application/vnd.livy.statement-meta+json": {
              "spark_pool": "Depi",
              "statement_id": 16,
              "statement_ids": [
                16
              ],
              "state": "finished",
              "livy_statement_state": "available",
              "spark_jobs": null,
              "session_id": "22",
              "normalized_state": "finished",
              "queued_time": "2024-10-18T17:39:26.9934749Z",
              "session_start_time": null,
              "execution_start_time": "2024-10-18T17:39:27.1966263Z",
              "execution_finish_time": "2024-10-18T17:39:31.1873225Z",
              "parent_msg_id": "2cc00f4c-4340-4cc9-a5dd-2cda2ca64090"
            },
            "text/plain": "StatementMeta(Depi, 22, 16, Finished, Available, Finished)"
          },
          "metadata": {}
        }
      ],
      "execution_count": 41,
      "metadata": {
        "jupyter": {
          "source_hidden": false,
          "outputs_hidden": false
        },
        "nteract": {
          "transient": {
            "deleting": false
          }
        }
      }
    }
  ],
  "metadata": {
    "language_info": {
      "name": "python"
    },
    "kernelspec": {
      "name": "synapse_pyspark",
      "language": "Python",
      "display_name": "Synapse PySpark"
    },
    "kernel_info": {
      "name": "synapse_pyspark"
    },
    "description": null,
    "save_output": true,
    "synapse_widget": {
      "version": "0.1",
      "state": {
        "84fd7268-2ff6-4341-b78d-f7d665e73c58": {
          "type": "Synapse.DataFrame",
          "sync_state": {
            "table": {
              "rows": [
                {
                  "0": "1",
                  "1": "1",
                  "2": "4",
                  "3": "1",
                  "4": "4",
                  "5": "1",
                  "6": "323.91",
                  "7": "GTX",
                  "8": "technolgy",
                  "9": "1100.04",
                  "10": "Prospecting",
                  "11": "2004-01-01",
                  "12": "2004-01-01",
                  "13": "0"
                },
                {
                  "0": "2",
                  "1": "2",
                  "2": "23",
                  "3": "2",
                  "4": "23",
                  "5": "2",
                  "6": "63.05",
                  "7": "GTX",
                  "8": "medical",
                  "9": "251.41",
                  "10": "Engaging",
                  "11": "2017-08-05 00:00:00",
                  "12": "2004-01-01",
                  "13": "0"
                },
                {
                  "0": "3",
                  "1": "3",
                  "2": "9",
                  "3": "3",
                  "4": "9",
                  "5": "3",
                  "6": "140.92",
                  "7": "MG",
                  "8": "medical",
                  "9": "647.18",
                  "10": "Prospecting",
                  "11": "2004-01-01",
                  "12": "2004-01-01",
                  "13": "0"
                },
                {
                  "0": "4",
                  "1": "4",
                  "2": "3",
                  "3": "4",
                  "4": "3",
                  "5": "4",
                  "6": "387.39",
                  "7": "MG",
                  "8": "medical",
                  "9": "587.34",
                  "10": "Engaging",
                  "11": "2017-07-30 00:00:00",
                  "12": "2004-01-01",
                  "13": "0"
                },
                {
                  "0": "5",
                  "1": "5",
                  "2": "22",
                  "3": "5",
                  "4": "22",
                  "5": "5",
                  "6": "315.29",
                  "7": "GTX",
                  "8": "medical",
                  "9": "326.82",
                  "10": "Prospecting",
                  "11": "2004-01-01",
                  "12": "2004-01-01",
                  "13": "0"
                },
                {
                  "0": "6",
                  "1": "6",
                  "2": "31",
                  "3": "6",
                  "4": "31",
                  "5": "6",
                  "6": "141.63",
                  "7": "GTX",
                  "8": "retail",
                  "9": "497.11",
                  "10": "Prospecting",
                  "11": "2004-01-01",
                  "12": "2004-01-01",
                  "13": "0"
                },
                {
                  "0": "7",
                  "1": "7",
                  "2": "19",
                  "3": "7",
                  "4": "19",
                  "5": "7",
                  "6": "421.14",
                  "7": "GTK",
                  "8": "technolgy",
                  "9": "1242.32",
                  "10": "Engaging",
                  "11": "2017-07-19 00:00:00",
                  "12": "2004-01-01",
                  "13": "0"
                },
                {
                  "0": "8",
                  "1": "8",
                  "2": "33",
                  "3": "8",
                  "4": "33",
                  "5": "8",
                  "6": "140.32",
                  "7": "GTX",
                  "8": "software",
                  "9": "987.39",
                  "10": "Engaging",
                  "11": "2017-07-22 00:00:00",
                  "12": "2004-01-01",
                  "13": "0"
                },
                {
                  "0": "9",
                  "1": "9",
                  "2": "16",
                  "3": "9",
                  "4": "16",
                  "5": "9",
                  "6": "134.5",
                  "7": "GTX",
                  "8": "retail",
                  "9": "718.62",
                  "10": "Engaging",
                  "11": "2017-07-30 00:00:00",
                  "12": "2004-01-01",
                  "13": "0"
                },
                {
                  "0": "10",
                  "1": "10",
                  "2": "17",
                  "3": "10",
                  "4": "17",
                  "5": "10",
                  "6": "68.34",
                  "7": "GTX",
                  "8": "entertainment",
                  "9": "4269.9",
                  "10": "Prospecting",
                  "11": "2004-01-01",
                  "12": "2004-01-01",
                  "13": "0"
                },
                {
                  "0": "11",
                  "1": "11",
                  "2": "28",
                  "3": "11",
                  "4": "28",
                  "5": "11",
                  "6": "157.98",
                  "7": "GTX",
                  "8": "software",
                  "9": "2714.9",
                  "10": "Prospecting",
                  "11": "2004-01-01",
                  "12": "2004-01-01",
                  "13": "0"
                },
                {
                  "0": "12",
                  "1": "12",
                  "2": "2",
                  "3": "12",
                  "4": "2",
                  "5": "12",
                  "6": "73.33",
                  "7": "GTX",
                  "8": "medical",
                  "9": "4.54",
                  "10": "Lost",
                  "11": "2017-02-26 00:00:00",
                  "12": "2017-03-16 00:00:00",
                  "13": "0"
                },
                {
                  "0": "13",
                  "1": "13",
                  "2": "30",
                  "3": "13",
                  "4": "30",
                  "5": "13",
                  "6": "405.28",
                  "7": "GTX",
                  "8": "technolgy",
                  "9": "1520.66",
                  "10": "Won",
                  "11": "2017-06-30 00:00:00",
                  "12": "2017-09-27 00:00:00",
                  "13": "560"
                },
                {
                  "0": "14",
                  "1": "14",
                  "2": "25",
                  "3": "14",
                  "4": "25",
                  "5": "14",
                  "6": "370.09",
                  "7": "GTX",
                  "8": "software",
                  "9": "98.79",
                  "10": "Lost",
                  "11": "2017-07-17 00:00:00",
                  "12": "2017-07-26 00:00:00",
                  "13": "0"
                },
                {
                  "0": "15",
                  "1": "15",
                  "2": "33",
                  "3": "15",
                  "4": "33",
                  "5": "15",
                  "6": "90.75",
                  "7": "GTX",
                  "8": "marketing",
                  "9": "2173.98",
                  "10": "Won",
                  "11": "2017-11-05 00:00:00",
                  "12": "2017-11-09 00:00:00",
                  "13": "480"
                },
                {
                  "0": "16",
                  "1": "16",
                  "2": "29",
                  "3": "16",
                  "4": "29",
                  "5": "16",
                  "6": "134.83",
                  "7": "GTX",
                  "8": "entertainment",
                  "9": "217.87",
                  "10": "Won",
                  "11": "2017-05-21 00:00:00",
                  "12": "2017-08-11 00:00:00",
                  "13": "475"
                },
                {
                  "0": "17",
                  "1": "17",
                  "2": "32",
                  "3": "17",
                  "4": "32",
                  "5": "17",
                  "6": "187.62",
                  "7": "GTX",
                  "8": "technolgy",
                  "9": "587.72",
                  "10": "Won",
                  "11": "2017-09-13 00:00:00",
                  "12": "2017-11-25 00:00:00",
                  "13": "629"
                },
                {
                  "0": "18",
                  "1": "18",
                  "2": "28",
                  "3": "18",
                  "4": "28",
                  "5": "18",
                  "6": "368.53",
                  "7": "GTX",
                  "8": "technolgy",
                  "9": "1712.68",
                  "10": "Won",
                  "11": "2017-08-27 00:00:00",
                  "12": "2017-09-05 00:00:00",
                  "13": "597"
                },
                {
                  "0": "19",
                  "1": "19",
                  "2": "15",
                  "3": "19",
                  "4": "15",
                  "5": "19",
                  "6": "482.99",
                  "7": "GTX",
                  "8": "software",
                  "9": "4618.0",
                  "10": "Lost",
                  "11": "2017-03-24 00:00:00",
                  "12": "2017-05-18 00:00:00",
                  "13": "0"
                },
                {
                  "0": "20",
                  "1": "20",
                  "2": "24",
                  "3": "20",
                  "4": "24",
                  "5": "20",
                  "6": "308.75",
                  "7": "GTX",
                  "8": "marketing",
                  "9": "1197.44",
                  "10": "Won",
                  "11": "2017-12-11 00:00:00",
                  "12": "2017-12-28 00:00:00",
                  "13": "537"
                },
                {
                  "0": "21",
                  "1": "21",
                  "2": "27",
                  "3": "21",
                  "4": "27",
                  "5": "21",
                  "6": "288.84",
                  "7": "GTX",
                  "8": "retail",
                  "9": "4968.91",
                  "10": "Won",
                  "11": "2017-03-04 00:00:00",
                  "12": "2017-06-13 00:00:00",
                  "13": "522"
                },
                {
                  "0": "22",
                  "1": "22",
                  "2": "6",
                  "3": "22",
                  "4": "6",
                  "5": "22",
                  "6": "28.61",
                  "7": "GTX",
                  "8": "telecommunications",
                  "9": "1825.82",
                  "10": "Won",
                  "11": "2017-03-02 00:00:00",
                  "12": "2017-03-12 00:00:00",
                  "13": "522"
                },
                {
                  "0": "23",
                  "1": "23",
                  "2": "10",
                  "3": "23",
                  "4": "10",
                  "5": "23",
                  "6": "303.86",
                  "7": "GTX",
                  "8": "finance",
                  "9": "1102.43",
                  "10": "Lost",
                  "11": "2017-02-14 00:00:00",
                  "12": "2017-05-05 00:00:00",
                  "13": "0"
                },
                {
                  "0": "24",
                  "1": "24",
                  "2": "3",
                  "3": "24",
                  "4": "3",
                  "5": "24",
                  "6": "368.91",
                  "7": "GTX",
                  "8": "employment",
                  "9": "2059.9",
                  "10": "Won",
                  "11": "2016-12-28 00:00:00",
                  "12": "2017-03-01 00:00:00",
                  "13": "625"
                },
                {
                  "0": "25",
                  "1": "25",
                  "2": "35",
                  "3": "25",
                  "4": "35",
                  "5": "25",
                  "6": "98.48",
                  "7": "GTX",
                  "8": "finance",
                  "9": "2819.5",
                  "10": "Won",
                  "11": "2017-05-27 00:00:00",
                  "12": "2017-09-03 00:00:00",
                  "13": "576"
                },
                {
                  "0": "26",
                  "1": "26",
                  "2": "22",
                  "3": "26",
                  "4": "22",
                  "5": "26",
                  "6": "180.18",
                  "7": "GTX",
                  "8": "retail",
                  "9": "5158.71",
                  "10": "Won",
                  "11": "2017-04-16 00:00:00",
                  "12": "2017-06-23 00:00:00",
                  "13": "626"
                },
                {
                  "0": "27",
                  "1": "27",
                  "2": "4",
                  "3": "27",
                  "4": "4",
                  "5": "27",
                  "6": "105.49",
                  "7": "GTX",
                  "8": "retail",
                  "9": "2520.83",
                  "10": "Won",
                  "11": "2017-02-27 00:00:00",
                  "12": "2017-06-04 00:00:00",
                  "13": "574"
                },
                {
                  "0": "28",
                  "1": "28",
                  "2": "32",
                  "3": "28",
                  "4": "32",
                  "5": "28",
                  "6": "192.02",
                  "7": "GTX",
                  "8": "retail",
                  "9": "894.33",
                  "10": "Won",
                  "11": "2017-07-05 00:00:00",
                  "12": "2017-08-28 00:00:00",
                  "13": "522"
                },
                {
                  "0": "29",
                  "1": "29",
                  "2": "28",
                  "3": "29",
                  "4": "28",
                  "5": "29",
                  "6": "436.87",
                  "7": "GTX",
                  "8": "technolgy",
                  "9": "1223.72",
                  "10": "Won",
                  "11": "2017-04-04 00:00:00",
                  "12": "2017-04-11 00:00:00",
                  "13": "582"
                },
                {
                  "0": "30",
                  "1": "30",
                  "2": "9",
                  "3": "30",
                  "4": "9",
                  "5": "30",
                  "6": "306.63",
                  "7": "GTX",
                  "8": "telecommunications",
                  "9": "86.68",
                  "10": "Lost",
                  "11": "2017-04-28 00:00:00",
                  "12": "2017-04-29 00:00:00",
                  "13": "0"
                },
                {
                  "0": "31",
                  "1": "31",
                  "2": "17",
                  "3": "31",
                  "4": "17",
                  "5": "31",
                  "6": "169.52",
                  "7": "GTX",
                  "8": "finance",
                  "9": "52.5",
                  "10": "Won",
                  "11": "2017-04-06 00:00:00",
                  "12": "2017-06-09 00:00:00",
                  "13": "527"
                },
                {
                  "0": "32",
                  "1": "32",
                  "2": "31",
                  "3": "32",
                  "4": "31",
                  "5": "32",
                  "6": "58.73",
                  "7": "GTX",
                  "8": "marketing",
                  "9": "2952.73",
                  "10": "Lost",
                  "11": "2017-05-28 00:00:00",
                  "12": "2017-08-20 00:00:00",
                  "13": "0"
                },
                {
                  "0": "33",
                  "1": "33",
                  "2": "1",
                  "3": "33",
                  "4": "1",
                  "5": "33",
                  "6": "111.41",
                  "7": "GTX",
                  "8": "services",
                  "9": "692.19",
                  "10": "Lost",
                  "11": "2017-10-01 00:00:00",
                  "12": "2017-10-11 00:00:00",
                  "13": "0"
                },
                {
                  "0": "34",
                  "1": "34",
                  "2": "2",
                  "3": "34",
                  "4": "2",
                  "5": "34",
                  "6": "198.16",
                  "7": "GTX",
                  "8": "retail",
                  "9": "223.8",
                  "10": "Won",
                  "11": "2017-04-16 00:00:00",
                  "12": "2017-08-03 00:00:00",
                  "13": "489"
                },
                {
                  "0": "35",
                  "1": "35",
                  "2": "23",
                  "3": "35",
                  "4": "23",
                  "5": "35",
                  "6": "275.89",
                  "7": "GTX",
                  "8": "services",
                  "9": "792.46",
                  "10": "Lost",
                  "11": "2017-09-11 00:00:00",
                  "12": "2017-09-13 00:00:00",
                  "13": "0"
                }
              ],
              "schema": [
                {
                  "key": "0",
                  "name": "FactSalesID",
                  "type": "int"
                },
                {
                  "key": "1",
                  "name": "SrAccountID",
                  "type": "int"
                },
                {
                  "key": "2",
                  "name": "SrProductID",
                  "type": "int"
                },
                {
                  "key": "3",
                  "name": "SragentID",
                  "type": "int"
                },
                {
                  "key": "4",
                  "name": "timekey",
                  "type": "int"
                },
                {
                  "key": "5",
                  "name": "SrSalesID",
                  "type": "int"
                },
                {
                  "key": "6",
                  "name": "sales_price",
                  "type": "float"
                },
                {
                  "key": "7",
                  "name": "Series",
                  "type": "string"
                },
                {
                  "key": "8",
                  "name": "SectorName",
                  "type": "string"
                },
                {
                  "key": "9",
                  "name": "revenue",
                  "type": "float"
                },
                {
                  "key": "10",
                  "name": "deal_stage",
                  "type": "string"
                },
                {
                  "key": "11",
                  "name": "engage",
                  "type": "string"
                },
                {
                  "key": "12",
                  "name": "close_date",
                  "type": "string"
                },
                {
                  "key": "13",
                  "name": "close_value",
                  "type": "int"
                }
              ],
              "truncated": false
            },
            "isSummary": false,
            "language": "scala",
            "wranglerEntryContext": {
              "dataframeType": "pyspark"
            }
          },
          "persist_state": {
            "view": {
              "type": "details",
              "tableOptions": {},
              "chartOptions": {
                "chartType": "bar",
                "aggregationType": "sum",
                "categoryFieldKeys": [
                  "1"
                ],
                "seriesFieldKeys": [
                  "0"
                ],
                "isStacked": false
              }
            }
          }
        }
      }
    }
  },
  "nbformat": 4,
  "nbformat_minor": 2
}