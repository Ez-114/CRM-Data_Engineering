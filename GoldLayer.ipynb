{
  "cells": [
    {
      "cell_type": "code",
      "source": [
        "%%pyspark\r\n",
        "import random\r\n",
        "from pyspark.sql import SparkSession\r\n",
        "from pyspark.sql.functions import (\r\n",
        "    current_timestamp, trim, udf, col, lit, row_number, date_format, dayofweek, dayofmonth, dayofyear,\r\n",
        "    month, year, weekofyear, when, concat, quarter\r\n",
        ")\r\n",
        "from pyspark.sql.types import DateType\r\n",
        "from pyspark.sql.window import Window\r\n",
        "from datetime import datetime, timedelta\r\n",
        "\r\n",
        "SRC_PARQUET_DIR = 'abfss://depi3@depi3.dfs.core.windows.net/Silver Layer'\r\n",
        "DIST_PARQUET_DIR = 'abfss://depi3@depi3.dfs.core.windows.net/Gold Layer'"
      ],
      "outputs": [
        {
          "output_type": "display_data",
          "data": {
            "application/vnd.livy.statement-meta+json": {
              "spark_pool": "Depi",
              "statement_id": 2,
              "statement_ids": [
                2
              ],
              "state": "finished",
              "livy_statement_state": "available",
              "spark_jobs": null,
              "session_id": "16",
              "normalized_state": "finished",
              "queued_time": "2024-10-17T19:55:32.6522996Z",
              "session_start_time": null,
              "execution_start_time": "2024-10-17T19:55:32.7857079Z",
              "execution_finish_time": "2024-10-17T19:55:32.9464023Z",
              "parent_msg_id": "deb079d8-ad66-4075-a36e-03d46162df76"
            },
            "text/plain": "StatementMeta(Depi, 16, 2, Finished, Available, Finished)"
          },
          "metadata": {}
        }
      ],
      "execution_count": 2,
      "metadata": {
        "microsoft": {
          "language": "python"
        }
      }
    },
    {
      "cell_type": "code",
      "source": [
        "accounts_df = spark.read.load(f'{SRC_PARQUET_DIR}/Accounts/part-*.snappy.parquet', format='parquet')\r\n",
        "major_df = spark.read.load(f'{SRC_PARQUET_DIR}/Major/part-*.snappy.parquet', format='parquet')\r\n",
        "manager_df = spark.read.load(f'{SRC_PARQUET_DIR}/Manager/part-*.snappy.parquet', format='parquet')\r\n",
        "office_df = spark.read.load(f'{SRC_PARQUET_DIR}/Office/part-*.snappy.parquet', foramt='parquet')\r\n",
        "sales_agent_df = spark.read.load(f'{SRC_PARQUET_DIR}/Sales Agent/part-*.snappy.parquet', format='parquet')\r\n",
        "sales_pipeline_df = spark.read.load(f'{SRC_PARQUET_DIR}/Sales PipeLine/part-*.snappy.parquet', format='parquet')\r\n",
        "product_df = spark.read.load(f'{SRC_PARQUET_DIR}/Products/part-*.snappy.parquet', format='parquet')\r\n",
        "regional_office_df = spark.read.load(f'{SRC_PARQUET_DIR}/Regional Office/part-*.snappy.parquet', format='parquet')\r\n",
        "sector_df = spark.read.load(f'{SRC_PARQUET_DIR}/Sector/part-*.snappy.parquet', format='parquet')\r\n",
        "series_df = spark.read.load(f'{SRC_PARQUET_DIR}/Series/part-*.snappy.parquet', format='parquet')"
      ],
      "outputs": [
        {
          "output_type": "display_data",
          "data": {
            "application/vnd.livy.statement-meta+json": {
              "spark_pool": "Depi",
              "statement_id": 3,
              "statement_ids": [
                3
              ],
              "state": "finished",
              "livy_statement_state": "available",
              "spark_jobs": null,
              "session_id": "16",
              "normalized_state": "finished",
              "queued_time": "2024-10-17T19:55:35.1648606Z",
              "session_start_time": null,
              "execution_start_time": "2024-10-17T19:55:35.3387476Z",
              "execution_finish_time": "2024-10-17T19:55:52.2575451Z",
              "parent_msg_id": "ef23f671-de6e-4bae-a0db-59a3e0515418"
            },
            "text/plain": "StatementMeta(Depi, 16, 3, Finished, Available, Finished)"
          },
          "metadata": {}
        }
      ],
      "execution_count": 3,
      "metadata": {
        "jupyter": {
          "source_hidden": false,
          "outputs_hidden": false
        },
        "nteract": {
          "transient": {
            "deleting": false
          }
        }
      }
    },
    {
      "cell_type": "code",
      "source": [
        "accounts_df.createOrReplaceTempView(\"accounts\")\r\n",
        "major_df.createOrReplaceTempView(\"major\")\r\n",
        "manager_df.createOrReplaceTempView(\"manager\")\r\n",
        "office_df.createOrReplaceTempView(\"office\")\r\n",
        "sales_agent_df.createOrReplaceTempView(\"sales_agent\")\r\n",
        "sales_pipeline_df.createOrReplaceTempView(\"sales_pipeline\")\r\n",
        "product_df.createOrReplaceTempView(\"product\")\r\n",
        "regional_office_df.createOrReplaceTempView(\"regional_office\")\r\n",
        "sector_df.createOrReplaceTempView(\"sector\")\r\n",
        "series_df.createOrReplaceTempView(\"series\")"
      ],
      "outputs": [
        {
          "output_type": "display_data",
          "data": {
            "application/vnd.livy.statement-meta+json": {
              "spark_pool": "Depi",
              "statement_id": 4,
              "statement_ids": [
                4
              ],
              "state": "finished",
              "livy_statement_state": "available",
              "spark_jobs": null,
              "session_id": "16",
              "normalized_state": "finished",
              "queued_time": "2024-10-17T19:55:36.1483135Z",
              "session_start_time": null,
              "execution_start_time": "2024-10-17T19:55:52.4021948Z",
              "execution_finish_time": "2024-10-17T19:55:54.2736829Z",
              "parent_msg_id": "406278f1-9849-4210-a6ab-d89b5b5d6d64"
            },
            "text/plain": "StatementMeta(Depi, 16, 4, Finished, Available, Finished)"
          },
          "metadata": {}
        }
      ],
      "execution_count": 4,
      "metadata": {
        "jupyter": {
          "source_hidden": false,
          "outputs_hidden": false
        },
        "nteract": {
          "transient": {
            "deleting": false
          }
        }
      }
    },
    {
      "cell_type": "code",
      "source": [
        "def generate_random_date(start_date, end_date):\r\n",
        "    \"\"\"\r\n",
        "    Generate a random date between two given dates.\r\n",
        "\r\n",
        "    Parameters:\r\n",
        "    start_date (str): The start date in 'YYYY-MM-DD' format.\r\n",
        "    end_date (str): The end date in 'YYYY-MM-DD' format.\r\n",
        "\r\n",
        "    Returns:\r\n",
        "    datetime: A random date between start_date and end_date.\r\n",
        "    \"\"\"\r\n",
        "    start = datetime.strptime(start_date, \"%Y-%m-%d\")\r\n",
        "    end = datetime.strptime(end_date, \"%Y-%m-%d\")\r\n",
        "    delta = end - start\r\n",
        "    random_days = random.randint(0, delta.days)\r\n",
        "\r\n",
        "    return start + timedelta(days=random_days)\r\n",
        "\r\n"
      ],
      "outputs": [
        {
          "output_type": "display_data",
          "data": {
            "application/vnd.livy.statement-meta+json": {
              "spark_pool": "Depi",
              "statement_id": 5,
              "statement_ids": [
                5
              ],
              "state": "finished",
              "livy_statement_state": "available",
              "spark_jobs": null,
              "session_id": "16",
              "normalized_state": "finished",
              "queued_time": "2024-10-17T19:55:36.570203Z",
              "session_start_time": null,
              "execution_start_time": "2024-10-17T19:55:54.4387857Z",
              "execution_finish_time": "2024-10-17T19:55:54.6024339Z",
              "parent_msg_id": "d763b204-07cb-47c4-b249-76fea2d66543"
            },
            "text/plain": "StatementMeta(Depi, 16, 5, Finished, Available, Finished)"
          },
          "metadata": {}
        }
      ],
      "execution_count": 5,
      "metadata": {
        "jupyter": {
          "source_hidden": false,
          "outputs_hidden": false
        },
        "nteract": {
          "transient": {
            "deleting": false
          }
        }
      }
    },
    {
      "cell_type": "markdown",
      "source": [
        "# Constructing tables\r\n",
        "**Making the DIM tables and the Fact Table**"
      ],
      "metadata": {
        "nteract": {
          "transient": {
            "deleting": false
          }
        }
      }
    },
    {
      "cell_type": "code",
      "source": [
        "Dim_Accounts = spark.sql(\"\"\"\r\n",
        "SELECT \r\n",
        "    ROW_NUMBER() OVER (ORDER BY A.AccountID, M.MajorID) AS SrAccountID,\r\n",
        "    A.AccountID,\r\n",
        "    A.account,\r\n",
        "    A.year_established,\r\n",
        "    A.revenue,\r\n",
        "    A.employees,\r\n",
        "    COALESCE(M.MajorName, 'Unknown') Subsidary_of,\r\n",
        "    S.SectorName,\r\n",
        "    O.OfficeLocation\r\n",
        "FROM \r\n",
        "    accounts A\r\n",
        "LEFT JOIN \r\n",
        "    major M ON M.MajorID = A.subsidiary_of_ID\r\n",
        "LEFT JOIN \r\n",
        "    sector S ON S.SectorID = A.sectorID\r\n",
        "LEFT JOIN \r\n",
        "    office O ON O.OfficeID = A.OfficeID;\r\n",
        "\"\"\")\r\n",
        "\r\n",
        "Dim_Products = spark.sql(\"\"\"\r\n",
        "SELECT\r\n",
        "\tROW_NUMBER() OVER (ORDER BY P.ProductID, S.SeriesID) SrProductID ,\r\n",
        "\tP.ProductID , \r\n",
        "\tP.product, \r\n",
        "\tP.sales_price,\r\n",
        "    P.StartDate,\r\n",
        "\tS.SeriesName Series\r\n",
        "FROM\r\n",
        "\tproduct P\r\n",
        "LEFT JOIN \r\n",
        "\tseries S ON S.SeriesID = P.SeriesID;\r\n",
        "\"\"\")\r\n",
        "generate_random_date_udf = udf(lambda: generate_random_date(\"2023-01-01\", \"2023-12-31\"), DateType())\r\n",
        "Dim_Products = Dim_Products.withColumn(\"EndDate\", generate_random_date_udf())\r\n",
        "\r\n",
        "Dim_Sales_Agent = spark.sql(\"\"\"\r\n",
        "SELECT\r\n",
        "\tROW_NUMBER() OVER (ORDER BY S.SalesID, R.RegionalOfficeID) SrAgentID ,\r\n",
        "\tS.SalesID SalesagentID, \r\n",
        "\tS.sales_agent Salesagent,\r\n",
        "\tM.ManagerName Manager,\r\n",
        "\tR.RegionalOfficeName RegionalOffice\r\n",
        "From\r\n",
        "\tsales_agent S\r\n",
        "LEFT JOIN\r\n",
        "\tregional_office R\r\n",
        "\tON S.regional_officeID = R.RegionalOfficeID\r\n",
        "LEFT JOIN\r\n",
        "\tmanager M\r\n",
        "\tON S.ManagerID = M.ManagerID;\r\n",
        "\"\"\")\r\n",
        "\r\n",
        "\r\n",
        "Dim_Sales_Pipeline = spark.sql(\"\"\"\r\n",
        "SELECT\r\n",
        "    ROW_NUMBER() OVER (ORDER BY SalesID, productID, accountID) SrSalesID,\r\n",
        "    opportunity_ID,\r\n",
        "    deal_stage,\r\n",
        "    engage_date engage,\r\n",
        "    close_date,\r\n",
        "    close_value\r\n",
        "From\r\n",
        "    sales_pipeline;\r\n",
        "\"\"\")\r\n",
        "\r\n",
        "# this one is for DIM SALES PIPELINE\r\n",
        "generate_random_date_udf = udf(lambda: generate_random_date(\"2020-01-01\", \"2023-12-31\"), DateType())\r\n",
        "Dim_Sales_Pipeline = Dim_Sales_Pipeline.withColumn('CreatedAt', generate_random_date_udf())"
      ],
      "outputs": [
        {
          "output_type": "display_data",
          "data": {
            "application/vnd.livy.statement-meta+json": {
              "spark_pool": "Depi",
              "statement_id": 6,
              "statement_ids": [
                6
              ],
              "state": "finished",
              "livy_statement_state": "available",
              "spark_jobs": null,
              "session_id": "16",
              "normalized_state": "finished",
              "queued_time": "2024-10-17T19:55:37.1361056Z",
              "session_start_time": null,
              "execution_start_time": "2024-10-17T19:55:54.7455349Z",
              "execution_finish_time": "2024-10-17T19:55:55.8505356Z",
              "parent_msg_id": "6956a163-792e-443b-a858-1c8f33448d85"
            },
            "text/plain": "StatementMeta(Depi, 16, 6, Finished, Available, Finished)"
          },
          "metadata": {}
        }
      ],
      "execution_count": 6,
      "metadata": {
        "jupyter": {
          "source_hidden": false,
          "outputs_hidden": false
        },
        "nteract": {
          "transient": {
            "deleting": false
          }
        },
        "collapsed": false
      }
    },
    {
      "cell_type": "code",
      "source": [
        "print(\"DIM Accounts Table:\\n\", Dim_Accounts.columns)\r\n",
        "# Show the query result\r\n",
        "display(Dim_Accounts.limit(10))"
      ],
      "outputs": [
        {
          "output_type": "display_data",
          "data": {
            "application/vnd.livy.statement-meta+json": {
              "spark_pool": "Depi",
              "statement_id": 7,
              "statement_ids": [
                7
              ],
              "state": "finished",
              "livy_statement_state": "available",
              "spark_jobs": null,
              "session_id": "16",
              "normalized_state": "finished",
              "queued_time": "2024-10-17T19:55:37.692103Z",
              "session_start_time": null,
              "execution_start_time": "2024-10-17T19:55:55.9994348Z",
              "execution_finish_time": "2024-10-17T19:56:03.1036764Z",
              "parent_msg_id": "51d25466-e2f1-495c-b7fa-41d18125e3ae"
            },
            "text/plain": "StatementMeta(Depi, 16, 7, Finished, Available, Finished)"
          },
          "metadata": {}
        },
        {
          "output_type": "stream",
          "name": "stdout",
          "text": [
            "DIM Accounts Table:\n ['SrAccountID', 'AccountID', 'account', 'year_established', 'revenue', 'employees', 'Subsidary_of', 'SectorName', 'OfficeLocation']\n"
          ]
        },
        {
          "output_type": "display_data",
          "data": {
            "application/vnd.synapse.widget-view+json": {
              "widget_id": "6f98ac2f-e927-4704-88a7-d219c384da34",
              "widget_type": "Synapse.DataFrame"
            },
            "text/plain": "SynapseWidget(Synapse.DataFrame, 6f98ac2f-e927-4704-88a7-d219c384da34)"
          },
          "metadata": {}
        }
      ],
      "execution_count": 7,
      "metadata": {
        "jupyter": {
          "source_hidden": false,
          "outputs_hidden": false
        },
        "nteract": {
          "transient": {
            "deleting": false
          }
        },
        "collapsed": false
      }
    },
    {
      "cell_type": "code",
      "source": [
        "def random_date(start_date, end_date):\r\n",
        "    time_delta = end_date - start_date\r\n",
        "    days_between = time_delta.days\r\n",
        "    random_days = random.randrange(0, days_between, random.randint(12,34))\r\n",
        "    return start_date + timedelta(days=random_days)\r\n",
        "\r\n",
        "# Generate sample date range using datetime\r\n",
        "start_date = datetime(2020, 1, 1)\r\n",
        "end_date = datetime(2023, 1, 10)\r\n",
        "date_list = [random_date(start_date, end_date).strftime(\"%Y-%m-%d\") for x in range(20)]\r\n",
        "\r\n",
        "# Create a DataFrame with just the `date` column initially\r\n",
        "df = spark.createDataFrame([(d,) for d in date_list], [\"date\"])\r\n",
        "\r\n",
        "# Add necessary columns to simulate your SQL query\r\n",
        "window_spec = Window.orderBy(\"date\")\r\n",
        "\r\n",
        "Dim_time = (\r\n",
        "    df\r\n",
        "    .withColumn(\"timekey\", row_number().over(window_spec))\r\n",
        "    .withColumn(\"dayofweek\", dayofweek(col(\"date\")))\r\n",
        "    .withColumn(\"dayofmonth\", dayofmonth(col(\"date\")))\r\n",
        "    .withColumn(\"dayofyear\", dayofyear(col(\"date\")))\r\n",
        "    .withColumn(\"Month\", month(col(\"date\")))\r\n",
        "    .withColumn(\"MonthName\", date_format(col(\"date\"), \"MMMM\"))\r\n",
        "    .withColumn(\"quarter\", quarter(col(\"date\")))\r\n",
        "    .withColumn(\"Year\", year(col(\"date\")))\r\n",
        "    .withColumn(\"WeekofYear\", weekofyear(col(\"date\")))\r\n",
        "    .withColumn(\"ISWeekend\", when(col(\"dayofweek\").isin(7, 1), lit(True)).otherwise(lit(False)))\r\n",
        "    .withColumn(\"ISHoliday\", lit(False))\r\n",
        "    .withColumn(\"HolidayName\", lit(\"UnKnown\").cast(\"string\"))\r\n",
        ")\r\n",
        "\r\n",
        "# Show the first 10 rows of the resulting DataFrame\r\n",
        "display(Dim_time.limit(1000))\r\n"
      ],
      "outputs": [
        {
          "output_type": "display_data",
          "data": {
            "application/vnd.livy.statement-meta+json": {
              "spark_pool": "Depi",
              "statement_id": 9,
              "statement_ids": [
                9
              ],
              "state": "finished",
              "livy_statement_state": "available",
              "spark_jobs": null,
              "session_id": "16",
              "normalized_state": "finished",
              "queued_time": "2024-10-17T19:55:38.3455844Z",
              "session_start_time": null,
              "execution_start_time": "2024-10-17T19:56:03.5865952Z",
              "execution_finish_time": "2024-10-17T19:56:07.5802379Z",
              "parent_msg_id": "300130a8-5854-4ea0-b3fd-4e9ae65cbda3"
            },
            "text/plain": "StatementMeta(Depi, 16, 9, Finished, Available, Finished)"
          },
          "metadata": {}
        },
        {
          "output_type": "display_data",
          "data": {
            "application/vnd.synapse.widget-view+json": {
              "widget_id": "1c23e33d-a77f-4750-b294-1863d7fe2ecb",
              "widget_type": "Synapse.DataFrame"
            },
            "text/plain": "SynapseWidget(Synapse.DataFrame, 1c23e33d-a77f-4750-b294-1863d7fe2ecb)"
          },
          "metadata": {}
        }
      ],
      "execution_count": 9,
      "metadata": {
        "jupyter": {
          "source_hidden": false,
          "outputs_hidden": false
        },
        "nteract": {
          "transient": {
            "deleting": false
          }
        },
        "collapsed": false
      }
    },
    {
      "cell_type": "code",
      "source": [
        "Dim_Accounts.write.mode(\"overwrite\").parquet(f'{DIST_PARQUET_DIR}/DimAccounts/')\r\n",
        "Dim_Products.write.mode(\"overwrite\").parquet(f'{DIST_PARQUET_DIR}/DimProducts/')\r\n",
        "Dim_Sales_Agent.write.mode(\"overwrite\").parquet(f'{DIST_PARQUET_DIR}/DimSalesAgent/')\r\n",
        "Dim_Sales_Pipeline.write.mode(\"overwrite\").parquet(f'{DIST_PARQUET_DIR}/DimSalesPipeLine/')\r\n",
        "Dim_time.write.mode(\"overwrite\").parquet(f'{DIST_PARQUET_DIR}/DimTime/')"
      ],
      "outputs": [
        {
          "output_type": "display_data",
          "data": {
            "application/vnd.livy.statement-meta+json": {
              "spark_pool": "Depi",
              "statement_id": 10,
              "statement_ids": [
                10
              ],
              "state": "finished",
              "livy_statement_state": "available",
              "spark_jobs": null,
              "session_id": "16",
              "normalized_state": "finished",
              "queued_time": "2024-10-17T19:55:38.7437852Z",
              "session_start_time": null,
              "execution_start_time": "2024-10-17T19:56:07.7540709Z",
              "execution_finish_time": "2024-10-17T19:56:22.5617827Z",
              "parent_msg_id": "dbb7522b-9c44-4f2d-b538-cf681de326b6"
            },
            "text/plain": "StatementMeta(Depi, 16, 10, Finished, Available, Finished)"
          },
          "metadata": {}
        }
      ],
      "execution_count": 10,
      "metadata": {
        "jupyter": {
          "source_hidden": false,
          "outputs_hidden": false
        },
        "nteract": {
          "transient": {
            "deleting": false
          }
        }
      }
    }
  ],
  "metadata": {
    "language_info": {
      "name": "python"
    },
    "kernelspec": {
      "name": "synapse_pyspark",
      "language": "Python",
      "display_name": "Synapse PySpark"
    },
    "kernel_info": {
      "name": "synapse_pyspark"
    },
    "description": "making the Dim and Fact tables and save them as parquet files",
    "save_output": true,
    "synapse_widget": {
      "version": "0.1",
      "state": {
        "6f98ac2f-e927-4704-88a7-d219c384da34": {
          "type": "Synapse.DataFrame",
          "sync_state": {
            "table": {
              "rows": [
                {
                  "0": "1",
                  "1": "1",
                  "2": "Acme Corporation",
                  "3": "1996",
                  "4": "1100.04",
                  "5": "2822",
                  "6": "Unknown",
                  "7": "technolgy",
                  "8": "United States"
                },
                {
                  "0": "2",
                  "1": "2",
                  "2": "Betasoloin",
                  "3": "1999",
                  "4": "251.41",
                  "5": "495",
                  "6": "Unknown",
                  "7": "medical",
                  "8": "United States"
                },
                {
                  "0": "3",
                  "1": "3",
                  "2": "Betatech",
                  "3": "1986",
                  "4": "647.18",
                  "5": "1185",
                  "6": "Unknown",
                  "7": "medical",
                  "8": "Kenya"
                },
                {
                  "0": "4",
                  "1": "4",
                  "2": "Bioholding",
                  "3": "2012",
                  "4": "587.34",
                  "5": "1356",
                  "6": "Unknown",
                  "7": "medical",
                  "8": "Philipines"
                },
                {
                  "0": "5",
                  "1": "5",
                  "2": "Bioplex",
                  "3": "1991",
                  "4": "326.82",
                  "5": "1016",
                  "6": "Unknown",
                  "7": "medical",
                  "8": "United States"
                },
                {
                  "0": "6",
                  "1": "6",
                  "2": "Blackzim",
                  "3": "2009",
                  "4": "497.11",
                  "5": "1588",
                  "6": "Unknown",
                  "7": "retail",
                  "8": "United States"
                },
                {
                  "0": "7",
                  "1": "7",
                  "2": "Bluth Company",
                  "3": "1993",
                  "4": "1242.32",
                  "5": "3027",
                  "6": "Acme Corporation",
                  "7": "technolgy",
                  "8": "United States"
                },
                {
                  "0": "8",
                  "1": "8",
                  "2": "Bubba Gump",
                  "3": "2002",
                  "4": "987.39",
                  "5": "2253",
                  "6": "Unknown",
                  "7": "software",
                  "8": "United States"
                },
                {
                  "0": "9",
                  "1": "9",
                  "2": "Cancity",
                  "3": "2001",
                  "4": "718.62",
                  "5": "2448",
                  "6": "Unknown",
                  "7": "retail",
                  "8": "United States"
                },
                {
                  "0": "10",
                  "1": "10",
                  "2": "Cheers",
                  "3": "1993",
                  "4": "4269.9",
                  "5": "6472",
                  "6": "Massive Dynamic",
                  "7": "entertainment",
                  "8": "United States"
                }
              ],
              "schema": [
                {
                  "key": "0",
                  "name": "SrAccountID",
                  "type": "int"
                },
                {
                  "key": "1",
                  "name": "AccountID",
                  "type": "int"
                },
                {
                  "key": "2",
                  "name": "account",
                  "type": "string"
                },
                {
                  "key": "3",
                  "name": "year_established",
                  "type": "int"
                },
                {
                  "key": "4",
                  "name": "revenue",
                  "type": "float"
                },
                {
                  "key": "5",
                  "name": "employees",
                  "type": "int"
                },
                {
                  "key": "6",
                  "name": "Subsidary_of",
                  "type": "string"
                },
                {
                  "key": "7",
                  "name": "SectorName",
                  "type": "string"
                },
                {
                  "key": "8",
                  "name": "OfficeLocation",
                  "type": "string"
                }
              ],
              "truncated": false
            },
            "isSummary": false,
            "language": "scala",
            "wranglerEntryContext": {
              "dataframeType": "pyspark"
            }
          },
          "persist_state": {
            "view": {
              "type": "details",
              "tableOptions": {},
              "chartOptions": {
                "chartType": "bar",
                "aggregationType": "sum",
                "categoryFieldKeys": [
                  "1"
                ],
                "seriesFieldKeys": [
                  "0"
                ],
                "isStacked": false
              }
            }
          }
        },
        "1c23e33d-a77f-4750-b294-1863d7fe2ecb": {
          "type": "Synapse.DataFrame",
          "sync_state": {
            "table": {
              "rows": [
                {
                  "0": "2020-01-01",
                  "1": "1",
                  "2": "4",
                  "3": "1",
                  "4": "1",
                  "5": "1",
                  "6": "January",
                  "7": "1",
                  "8": "2020",
                  "9": "1",
                  "10": "false",
                  "11": "false",
                  "12": "UnKnown"
                },
                {
                  "0": "2020-01-27",
                  "1": "2",
                  "2": "2",
                  "3": "27",
                  "4": "27",
                  "5": "1",
                  "6": "January",
                  "7": "1",
                  "8": "2020",
                  "9": "5",
                  "10": "false",
                  "11": "false",
                  "12": "UnKnown"
                },
                {
                  "0": "2020-02-02",
                  "1": "3",
                  "2": "1",
                  "3": "2",
                  "4": "33",
                  "5": "2",
                  "6": "February",
                  "7": "1",
                  "8": "2020",
                  "9": "5",
                  "10": "true",
                  "11": "false",
                  "12": "UnKnown"
                },
                {
                  "0": "2020-03-25",
                  "1": "4",
                  "2": "4",
                  "3": "25",
                  "4": "85",
                  "5": "3",
                  "6": "March",
                  "7": "1",
                  "8": "2020",
                  "9": "13",
                  "10": "false",
                  "11": "false",
                  "12": "UnKnown"
                },
                {
                  "0": "2020-06-19",
                  "1": "5",
                  "2": "6",
                  "3": "19",
                  "4": "171",
                  "5": "6",
                  "6": "June",
                  "7": "2",
                  "8": "2020",
                  "9": "25",
                  "10": "false",
                  "11": "false",
                  "12": "UnKnown"
                },
                {
                  "0": "2020-12-02",
                  "1": "6",
                  "2": "4",
                  "3": "2",
                  "4": "337",
                  "5": "12",
                  "6": "December",
                  "7": "4",
                  "8": "2020",
                  "9": "49",
                  "10": "false",
                  "11": "false",
                  "12": "UnKnown"
                },
                {
                  "0": "2021-01-25",
                  "1": "7",
                  "2": "2",
                  "3": "25",
                  "4": "25",
                  "5": "1",
                  "6": "January",
                  "7": "1",
                  "8": "2021",
                  "9": "4",
                  "10": "false",
                  "11": "false",
                  "12": "UnKnown"
                },
                {
                  "0": "2021-02-22",
                  "1": "8",
                  "2": "2",
                  "3": "22",
                  "4": "53",
                  "5": "2",
                  "6": "February",
                  "7": "1",
                  "8": "2021",
                  "9": "8",
                  "10": "false",
                  "11": "false",
                  "12": "UnKnown"
                },
                {
                  "0": "2021-03-16",
                  "1": "9",
                  "2": "3",
                  "3": "16",
                  "4": "75",
                  "5": "3",
                  "6": "March",
                  "7": "1",
                  "8": "2021",
                  "9": "11",
                  "10": "false",
                  "11": "false",
                  "12": "UnKnown"
                },
                {
                  "0": "2021-04-01",
                  "1": "10",
                  "2": "5",
                  "3": "1",
                  "4": "91",
                  "5": "4",
                  "6": "April",
                  "7": "2",
                  "8": "2021",
                  "9": "13",
                  "10": "false",
                  "11": "false",
                  "12": "UnKnown"
                },
                {
                  "0": "2021-04-13",
                  "1": "11",
                  "2": "3",
                  "3": "13",
                  "4": "103",
                  "5": "4",
                  "6": "April",
                  "7": "2",
                  "8": "2021",
                  "9": "15",
                  "10": "false",
                  "11": "false",
                  "12": "UnKnown"
                },
                {
                  "0": "2021-07-04",
                  "1": "12",
                  "2": "1",
                  "3": "4",
                  "4": "185",
                  "5": "7",
                  "6": "July",
                  "7": "3",
                  "8": "2021",
                  "9": "26",
                  "10": "true",
                  "11": "false",
                  "12": "UnKnown"
                },
                {
                  "0": "2021-07-12",
                  "1": "13",
                  "2": "2",
                  "3": "12",
                  "4": "193",
                  "5": "7",
                  "6": "July",
                  "7": "3",
                  "8": "2021",
                  "9": "28",
                  "10": "false",
                  "11": "false",
                  "12": "UnKnown"
                },
                {
                  "0": "2021-08-31",
                  "1": "14",
                  "2": "3",
                  "3": "31",
                  "4": "243",
                  "5": "8",
                  "6": "August",
                  "7": "3",
                  "8": "2021",
                  "9": "35",
                  "10": "false",
                  "11": "false",
                  "12": "UnKnown"
                },
                {
                  "0": "2021-09-29",
                  "1": "15",
                  "2": "4",
                  "3": "29",
                  "4": "272",
                  "5": "9",
                  "6": "September",
                  "7": "3",
                  "8": "2021",
                  "9": "39",
                  "10": "false",
                  "11": "false",
                  "12": "UnKnown"
                },
                {
                  "0": "2022-03-17",
                  "1": "16",
                  "2": "5",
                  "3": "17",
                  "4": "76",
                  "5": "3",
                  "6": "March",
                  "7": "1",
                  "8": "2022",
                  "9": "11",
                  "10": "false",
                  "11": "false",
                  "12": "UnKnown"
                },
                {
                  "0": "2022-06-29",
                  "1": "17",
                  "2": "4",
                  "3": "29",
                  "4": "180",
                  "5": "6",
                  "6": "June",
                  "7": "2",
                  "8": "2022",
                  "9": "26",
                  "10": "false",
                  "11": "false",
                  "12": "UnKnown"
                },
                {
                  "0": "2022-08-20",
                  "1": "18",
                  "2": "7",
                  "3": "20",
                  "4": "232",
                  "5": "8",
                  "6": "August",
                  "7": "3",
                  "8": "2022",
                  "9": "33",
                  "10": "true",
                  "11": "false",
                  "12": "UnKnown"
                },
                {
                  "0": "2022-10-11",
                  "1": "19",
                  "2": "3",
                  "3": "11",
                  "4": "284",
                  "5": "10",
                  "6": "October",
                  "7": "4",
                  "8": "2022",
                  "9": "41",
                  "10": "false",
                  "11": "false",
                  "12": "UnKnown"
                },
                {
                  "0": "2022-12-17",
                  "1": "20",
                  "2": "7",
                  "3": "17",
                  "4": "351",
                  "5": "12",
                  "6": "December",
                  "7": "4",
                  "8": "2022",
                  "9": "50",
                  "10": "true",
                  "11": "false",
                  "12": "UnKnown"
                }
              ],
              "schema": [
                {
                  "key": "0",
                  "name": "date",
                  "type": "string"
                },
                {
                  "key": "1",
                  "name": "timekey",
                  "type": "int"
                },
                {
                  "key": "2",
                  "name": "dayofweek",
                  "type": "int"
                },
                {
                  "key": "3",
                  "name": "dayofmonth",
                  "type": "int"
                },
                {
                  "key": "4",
                  "name": "dayofyear",
                  "type": "int"
                },
                {
                  "key": "5",
                  "name": "Month",
                  "type": "int"
                },
                {
                  "key": "6",
                  "name": "MonthName",
                  "type": "string"
                },
                {
                  "key": "7",
                  "name": "quarter",
                  "type": "int"
                },
                {
                  "key": "8",
                  "name": "Year",
                  "type": "int"
                },
                {
                  "key": "9",
                  "name": "WeekofYear",
                  "type": "int"
                },
                {
                  "key": "10",
                  "name": "ISWeekend",
                  "type": "boolean"
                },
                {
                  "key": "11",
                  "name": "ISHoliday",
                  "type": "boolean"
                },
                {
                  "key": "12",
                  "name": "HolidayName",
                  "type": "string"
                }
              ],
              "truncated": false
            },
            "isSummary": false,
            "language": "scala",
            "wranglerEntryContext": {
              "dataframeType": "pyspark"
            }
          },
          "persist_state": {
            "view": {
              "type": "details",
              "tableOptions": {},
              "chartOptions": {
                "chartType": "bar",
                "aggregationType": "sum",
                "categoryFieldKeys": [
                  "0"
                ],
                "seriesFieldKeys": [
                  "1"
                ],
                "isStacked": false
              }
            }
          }
        }
      }
    }
  },
  "nbformat": 4,
  "nbformat_minor": 2
}