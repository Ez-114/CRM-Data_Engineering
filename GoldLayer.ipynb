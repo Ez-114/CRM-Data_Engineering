{
  "cells": [
    {
      "cell_type": "code",
      "source": [
        "%%pyspark\r\n",
        "import random\r\n",
        "from pyspark.sql import SparkSession\r\n",
        "from pyspark.sql.functions import (\r\n",
        "    current_timestamp, trim, udf, col, lit, row_number, date_format, dayofweek, dayofmonth, dayofyear,\r\n",
        "    month, year, weekofyear, when, concat, quarter\r\n",
        ")\r\n",
        "from pyspark.sql.types import DateType\r\n",
        "from pyspark.sql.window import Window\r\n",
        "from datetime import datetime, timedelta\r\n",
        "\r\n",
        "SRC_PARQUET_DIR = 'abfss://depi3@depi3.dfs.core.windows.net/Silver Layer'\r\n",
        "DIST_PARQUET_DIR = 'abfss://depi3@depi3.dfs.core.windows.net/Gold Layer'"
      ],
      "outputs": [
        {
          "output_type": "display_data",
          "data": {
            "application/vnd.livy.statement-meta+json": {
              "spark_pool": "Depi",
              "statement_id": 9,
              "statement_ids": [
                9
              ],
              "state": "finished",
              "livy_statement_state": "available",
              "spark_jobs": null,
              "session_id": "9",
              "normalized_state": "finished",
              "queued_time": "2024-10-17T12:49:39.286987Z",
              "session_start_time": null,
              "execution_start_time": "2024-10-17T12:49:39.4536159Z",
              "execution_finish_time": "2024-10-17T12:49:39.625Z",
              "parent_msg_id": "78c82a35-8912-40f2-8dfd-1626184d8e57"
            },
            "text/plain": "StatementMeta(Depi, 9, 9, Finished, Available, Finished)"
          },
          "metadata": {}
        }
      ],
      "execution_count": 9,
      "metadata": {
        "microsoft": {
          "language": "python"
        }
      }
    },
    {
      "cell_type": "code",
      "source": [
        "accounts_df = spark.read.load(f'{SRC_PARQUET_DIR}/Accounts/part-*.snappy.parquet', format='parquet')\r\n",
        "major_df = spark.read.load(f'{SRC_PARQUET_DIR}/Major/part-*.snappy.parquet', format='parquet')\r\n",
        "manager_df = spark.read.load(f'{SRC_PARQUET_DIR}/Manager/part-*.snappy.parquet', format='parquet')\r\n",
        "office_df = spark.read.load(f'{SRC_PARQUET_DIR}/Office/part-*.snappy.parquet', foramt='parquet')\r\n",
        "sales_agent_df = spark.read.load(f'{SRC_PARQUET_DIR}/Sales Agent/part-*.snappy.parquet', format='parquet')\r\n",
        "sales_pipeline_df = spark.read.load(f'{SRC_PARQUET_DIR}/Sales PipeLine/part-*.snappy.parquet', format='parquet')\r\n",
        "product_df = spark.read.load(f'{SRC_PARQUET_DIR}/Products/part-*.snappy.parquet', format='parquet')\r\n",
        "regional_office_df = spark.read.load(f'{SRC_PARQUET_DIR}/Regional Office/part-*.snappy.parquet', format='parquet')\r\n",
        "sector_df = spark.read.load(f'{SRC_PARQUET_DIR}/Sector/part-*.snappy.parquet', format='parquet')\r\n",
        "series_df = spark.read.load(f'{SRC_PARQUET_DIR}/Series/part-*.snappy.parquet', format='parquet')"
      ],
      "outputs": [
        {
          "output_type": "display_data",
          "data": {
            "application/vnd.livy.statement-meta+json": {
              "spark_pool": "Depi",
              "statement_id": 10,
              "statement_ids": [
                10
              ],
              "state": "finished",
              "livy_statement_state": "available",
              "spark_jobs": null,
              "session_id": "9",
              "normalized_state": "finished",
              "queued_time": "2024-10-17T12:49:39.3977217Z",
              "session_start_time": null,
              "execution_start_time": "2024-10-17T12:49:39.7902282Z",
              "execution_finish_time": "2024-10-17T12:49:43.7683035Z",
              "parent_msg_id": "11b83a0d-783e-4fff-b12b-96069713a171"
            },
            "text/plain": "StatementMeta(Depi, 9, 10, Finished, Available, Finished)"
          },
          "metadata": {}
        }
      ],
      "execution_count": 10,
      "metadata": {
        "jupyter": {
          "source_hidden": false,
          "outputs_hidden": false
        },
        "nteract": {
          "transient": {
            "deleting": false
          }
        }
      }
    },
    {
      "cell_type": "code",
      "source": [
        "accounts_df.createOrReplaceTempView(\"accounts\")\r\n",
        "major_df.createOrReplaceTempView(\"major\")\r\n",
        "manager_df.createOrReplaceTempView(\"manager\")\r\n",
        "office_df.createOrReplaceTempView(\"office\")\r\n",
        "sales_agent_df.createOrReplaceTempView(\"sales_agent\")\r\n",
        "sales_pipeline_df.createOrReplaceTempView(\"sales_pipeline\")\r\n",
        "product_df.createOrReplaceTempView(\"product\")\r\n",
        "regional_office_df.createOrReplaceTempView(\"regional_office\")\r\n",
        "sector_df.createOrReplaceTempView(\"sector\")\r\n",
        "series_df.createOrReplaceTempView(\"series\")"
      ],
      "outputs": [
        {
          "output_type": "display_data",
          "data": {
            "application/vnd.livy.statement-meta+json": {
              "spark_pool": "Depi",
              "statement_id": 82,
              "statement_ids": [
                82
              ],
              "state": "finished",
              "livy_statement_state": "available",
              "spark_jobs": null,
              "session_id": "9",
              "normalized_state": "finished",
              "queued_time": "2024-10-17T15:02:31.4178124Z",
              "session_start_time": null,
              "execution_start_time": "2024-10-17T15:02:31.564416Z",
              "execution_finish_time": "2024-10-17T15:02:31.7190954Z",
              "parent_msg_id": "a252a63e-38fd-47a6-8c98-9d5c769abc68"
            },
            "text/plain": "StatementMeta(Depi, 9, 82, Finished, Available, Finished)"
          },
          "metadata": {}
        }
      ],
      "execution_count": 78,
      "metadata": {
        "jupyter": {
          "source_hidden": false,
          "outputs_hidden": false
        },
        "nteract": {
          "transient": {
            "deleting": false
          }
        }
      }
    },
    {
      "cell_type": "code",
      "source": [
        "def generate_random_date(start_date, end_date):\r\n",
        "    \"\"\"\r\n",
        "    Generate a random date between two given dates.\r\n",
        "\r\n",
        "    Parameters:\r\n",
        "    start_date (str): The start date in 'YYYY-MM-DD' format.\r\n",
        "    end_date (str): The end date in 'YYYY-MM-DD' format.\r\n",
        "\r\n",
        "    Returns:\r\n",
        "    datetime: A random date between start_date and end_date.\r\n",
        "    \"\"\"\r\n",
        "    start = datetime.strptime(start_date, \"%Y-%m-%d\")\r\n",
        "    end = datetime.strptime(end_date, \"%Y-%m-%d\")\r\n",
        "    delta = end - start\r\n",
        "    random_days = random.randint(0, delta.days)\r\n",
        "\r\n",
        "    return start + timedelta(days=random_days)\r\n",
        "\r\n",
        "generate_random_date_udf = udf(lambda: generate_random_date(\"2023-01-01\", \"2023-12-31\"), DateType())"
      ],
      "outputs": [],
      "execution_count": null,
      "metadata": {
        "jupyter": {
          "source_hidden": false,
          "outputs_hidden": false
        },
        "nteract": {
          "transient": {
            "deleting": false
          }
        }
      }
    },
    {
      "cell_type": "markdown",
      "source": [
        "# Constructing tables\r\n",
        "**Making the DIM tables and the Fact Table**"
      ],
      "metadata": {
        "nteract": {
          "transient": {
            "deleting": false
          }
        }
      }
    },
    {
      "cell_type": "code",
      "source": [
        "Dim_Accounts = spark.sql(\"\"\"\r\n",
        "SELECT \r\n",
        "    ROW_NUMBER() OVER (ORDER BY A.AccountID, M.MajorID) AS SrAccountID,\r\n",
        "    A.AccountID,\r\n",
        "    A.account,\r\n",
        "    A.year_established,\r\n",
        "    A.revenue,\r\n",
        "    A.employees,\r\n",
        "    COALESCE(M.MajorName, 'Unknown') Subsidary_of,\r\n",
        "    S.SectorName,\r\n",
        "    O.OfficeLocation\r\n",
        "FROM \r\n",
        "    accounts A\r\n",
        "LEFT JOIN \r\n",
        "    major M ON M.MajorID = A.subsidiary_of_ID\r\n",
        "LEFT JOIN \r\n",
        "    sector S ON S.SectorID = A.sectorID\r\n",
        "LEFT JOIN \r\n",
        "    office O ON O.OfficeID = A.OfficeID;\r\n",
        "\"\"\")\r\n",
        "\r\n",
        "Dim_Products = spark.sql(\"\"\"\r\n",
        "SELECT\r\n",
        "\tROW_NUMBER() OVER (ORDER BY P.ProductID, S.SeriesID) SrProductID ,\r\n",
        "\tP.ProductID , \r\n",
        "\tP.product, \r\n",
        "\tP.sales_price , \r\n",
        "\tS.SeriesName Series\r\n",
        "FROM\r\n",
        "\tproduct P\r\n",
        "LEFT JOIN \r\n",
        "\tseries S ON S.SeriesID = P.SeriesID;\r\n",
        "\"\"\")\r\n",
        "\r\n",
        "Dim_Products = Dim_Products.withColumn(\"EndDate\", generate_random_date_udf())\r\n",
        "\r\n",
        "Dim_Sales_Agent = spark.sql(\"\"\"\r\n",
        "SELECT\r\n",
        "\tROW_NUMBER() OVER (ORDER BY S.SalesID, R.RegionalOfficeID) SrAgentID ,\r\n",
        "\tS.SalesID SalesagentID, \r\n",
        "\tS.sales_agent Salesagent,\r\n",
        "\tM.ManagerName Manager,\r\n",
        "\tR.RegionalOfficeName RegionalOffice\r\n",
        "From\r\n",
        "\tsales_agent S\r\n",
        "LEFT JOIN\r\n",
        "\tregional_office R\r\n",
        "\tON S.regional_officeID = R.RegionalOfficeID\r\n",
        "LEFT JOIN\r\n",
        "\tmanager M\r\n",
        "\tON S.ManagerID = M.ManagerID;\r\n",
        "\"\"\")\r\n",
        "\r\n",
        "\r\n",
        "# this one is for DIM SALES PIPELINE\r\n",
        "generate_random_date_udf = udf(lambda: generate_random_date(\"2020-01-01\", \"2023-12-31\"), DateType())\r\n",
        "\r\n",
        "Dim_Sales_Pipeline = spark.sql(\"\"\"\r\n",
        "SELECT\r\n",
        "    ROW_NUMBER() OVER (ORDER BY SalesID, productID, accountID) SrSalesID,\r\n",
        "    deal_stage,\r\n",
        "    engage_date engage,\r\n",
        "    close_date,\r\n",
        "    close_value\r\n",
        "From\r\n",
        "    sales_pipeline;\r\n",
        "\"\"\")\r\n",
        "\r\n",
        "Dim_Sales_Pipeline = Dim_Sales_Pipeline.withColumn('CreatedAt', generate_random_date_udf())"
      ],
      "outputs": [
        {
          "output_type": "display_data",
          "data": {
            "application/vnd.livy.statement-meta+json": {
              "spark_pool": "Depi",
              "statement_id": 104,
              "statement_ids": [
                104
              ],
              "state": "finished",
              "livy_statement_state": "available",
              "spark_jobs": null,
              "session_id": "9",
              "normalized_state": "finished",
              "queued_time": "2024-10-17T15:26:35.8986022Z",
              "session_start_time": null,
              "execution_start_time": "2024-10-17T15:26:36.0239213Z",
              "execution_finish_time": "2024-10-17T15:26:36.1814617Z",
              "parent_msg_id": "848e3947-95d5-4fb4-bbf1-65ee625bcec7"
            },
            "text/plain": "StatementMeta(Depi, 9, 104, Finished, Available, Finished)"
          },
          "metadata": {}
        }
      ],
      "execution_count": 100,
      "metadata": {
        "jupyter": {
          "source_hidden": false,
          "outputs_hidden": false
        },
        "nteract": {
          "transient": {
            "deleting": false
          }
        },
        "collapsed": false
      }
    },
    {
      "cell_type": "code",
      "source": [
        "print(\"DIM Accounts Table:\\n\", Dim_Accounts.columns)\r\n",
        "# Show the query result\r\n",
        "display(Dim_Accounts.limit(10))"
      ],
      "outputs": [
        {
          "output_type": "display_data",
          "data": {
            "application/vnd.livy.statement-meta+json": {
              "spark_pool": "Depi",
              "statement_id": 31,
              "statement_ids": [
                31
              ],
              "state": "finished",
              "livy_statement_state": "available",
              "spark_jobs": null,
              "session_id": "9",
              "normalized_state": "finished",
              "queued_time": "2024-10-17T13:18:47.0686526Z",
              "session_start_time": null,
              "execution_start_time": "2024-10-17T13:18:47.2018725Z",
              "execution_finish_time": "2024-10-17T13:18:49.0602983Z",
              "parent_msg_id": "3bf3ed2e-9434-4076-a5e9-97e5e2bd307d"
            },
            "text/plain": "StatementMeta(Depi, 9, 31, Finished, Available, Finished)"
          },
          "metadata": {}
        },
        {
          "output_type": "stream",
          "name": "stdout",
          "text": [
            "DIM Accounts Table:\n ['SrAccountID', 'AccountID', 'account', 'year_established', 'revenue', 'employees', 'Subsidary_of', 'SectorName', 'OfficeLocation']\n"
          ]
        },
        {
          "output_type": "display_data",
          "data": {
            "application/vnd.synapse.widget-view+json": {
              "widget_id": "a0ebf806-1fc4-445b-8f4b-b97f0ce37ebd",
              "widget_type": "Synapse.DataFrame"
            },
            "text/plain": "SynapseWidget(Synapse.DataFrame, a0ebf806-1fc4-445b-8f4b-b97f0ce37ebd)"
          },
          "metadata": {}
        }
      ],
      "execution_count": 27,
      "metadata": {
        "jupyter": {
          "source_hidden": false,
          "outputs_hidden": false
        },
        "nteract": {
          "transient": {
            "deleting": false
          }
        },
        "collapsed": false
      }
    },
    {
      "cell_type": "code",
      "source": [
        "# TODO Make the rest of the DIM tables and the Fact table\r\n",
        "# TODO Save them in their parquet format in the Gold Layer folder\r\n",
        "# TODO After finishing delete all previous data in bronze, silver, and gold layers\r\n",
        "# TODO try every thing again to ensure that every this is working smooth"
      ],
      "outputs": [
        {
          "output_type": "display_data",
          "data": {
            "application/vnd.livy.statement-meta+json": {
              "spark_pool": "Depi",
              "statement_id": 14,
              "statement_ids": [
                14
              ],
              "state": "finished",
              "livy_statement_state": "available",
              "spark_jobs": null,
              "session_id": "9",
              "normalized_state": "finished",
              "queued_time": "2024-10-17T12:49:40.2980122Z",
              "session_start_time": null,
              "execution_start_time": "2024-10-17T12:49:47.9563827Z",
              "execution_finish_time": "2024-10-17T12:49:48.122329Z",
              "parent_msg_id": "9ce95795-c5d1-4383-a7b1-384dbedf1e73"
            },
            "text/plain": "StatementMeta(Depi, 9, 14, Finished, Available, Finished)"
          },
          "metadata": {}
        }
      ],
      "execution_count": 14,
      "metadata": {
        "jupyter": {
          "source_hidden": false,
          "outputs_hidden": false
        },
        "nteract": {
          "transient": {
            "deleting": false
          }
        }
      }
    },
    {
      "cell_type": "code",
      "source": [
        "Dim_Sales_Agent.columns"
      ],
      "outputs": [
        {
          "output_type": "display_data",
          "data": {
            "application/vnd.livy.statement-meta+json": {
              "spark_pool": "Depi",
              "statement_id": 105,
              "statement_ids": [
                105
              ],
              "state": "finished",
              "livy_statement_state": "available",
              "spark_jobs": null,
              "session_id": "9",
              "normalized_state": "finished",
              "queued_time": "2024-10-17T15:26:48.3919932Z",
              "session_start_time": null,
              "execution_start_time": "2024-10-17T15:26:48.5401071Z",
              "execution_finish_time": "2024-10-17T15:26:48.6983035Z",
              "parent_msg_id": "0284a22d-3aa7-4eb2-95e4-c6aeceef9210"
            },
            "text/plain": "StatementMeta(Depi, 9, 105, Finished, Available, Finished)"
          },
          "metadata": {}
        },
        {
          "output_type": "execute_result",
          "execution_count": 211,
          "data": {
            "text/plain": "['SrAgentID', 'SalesagentID', 'Salesagent', 'Manager', 'RegionalOffice']"
          },
          "metadata": {}
        }
      ],
      "execution_count": 101,
      "metadata": {
        "jupyter": {
          "source_hidden": false,
          "outputs_hidden": false
        },
        "nteract": {
          "transient": {
            "deleting": false
          }
        },
        "collapsed": false
      }
    },
    {
      "cell_type": "code",
      "source": [
        "\r\n",
        "\r\n",
        "def random_date(start_date, end_date):\r\n",
        "    time_delta = end_date - start_date\r\n",
        "    days_between = time_delta.days\r\n",
        "    random_days = random.randrange(0, days_between, random.randint(12,34))\r\n",
        "    return start_date + timedelta(days=random_days)\r\n",
        "\r\n",
        "# Generate sample date range using datetime\r\n",
        "start_date = datetime(2020, 1, 1)\r\n",
        "end_date = datetime(2023, 1, 10)\r\n",
        "date_list = [random_date(start_date, end_date).strftime(\"%Y-%m-%d\") for x in range(20)]\r\n",
        "\r\n",
        "# Create a DataFrame with just the `date` column initially\r\n",
        "df = spark.createDataFrame([(d,) for d in date_list], [\"date\"])\r\n",
        "\r\n",
        "# Add necessary columns to simulate your SQL query\r\n",
        "window_spec = Window.orderBy(\"date\")\r\n",
        "\r\n",
        "Dim_time = (\r\n",
        "    df\r\n",
        "    .withColumn(\"timekey\", row_number().over(window_spec))\r\n",
        "    .withColumn(\"dayofweek\", dayofweek(col(\"date\")))\r\n",
        "    .withColumn(\"dayofmonth\", dayofmonth(col(\"date\")))\r\n",
        "    .withColumn(\"dayofyear\", dayofyear(col(\"date\")))\r\n",
        "    .withColumn(\"Month\", month(col(\"date\")))\r\n",
        "    .withColumn(\"MonthName\", date_format(col(\"date\"), \"MMMM\"))\r\n",
        "    .withColumn(\"quarter\", quarter(col(\"date\")))\r\n",
        "    .withColumn(\"Year\", year(col(\"date\")))\r\n",
        "    .withColumn(\"WeekofYear\", weekofyear(col(\"date\")))\r\n",
        "    .withColumn(\"ISWeekend\", when(col(\"dayofweek\").isin(7, 1), lit(True)).otherwise(lit(False)))\r\n",
        "    .withColumn(\"ISHoliday\", lit(False))\r\n",
        "    .withColumn(\"HolidayName\", lit(\"UnKnown\").cast(\"string\"))\r\n",
        ")\r\n",
        "\r\n",
        "# Show the first 10 rows of the resulting DataFrame\r\n",
        "display(Dim_time_df.limit(1000))\r\n"
      ],
      "outputs": [
        {
          "output_type": "display_data",
          "data": {
            "application/vnd.livy.statement-meta+json": {
              "spark_pool": "Depi",
              "statement_id": 67,
              "statement_ids": [
                67
              ],
              "state": "finished",
              "livy_statement_state": "available",
              "spark_jobs": null,
              "session_id": "9",
              "normalized_state": "finished",
              "queued_time": "2024-10-17T14:38:01.5460386Z",
              "session_start_time": null,
              "execution_start_time": "2024-10-17T14:38:01.7276821Z",
              "execution_finish_time": "2024-10-17T14:38:02.822882Z",
              "parent_msg_id": "b47b6361-4407-4455-ac2f-da85a7b7cf17"
            },
            "text/plain": "StatementMeta(Depi, 9, 67, Finished, Available, Finished)"
          },
          "metadata": {}
        },
        {
          "output_type": "display_data",
          "data": {
            "application/vnd.synapse.widget-view+json": {
              "widget_id": "1f8a57ce-2a3b-453f-8ed4-cbbfb2901bc4",
              "widget_type": "Synapse.DataFrame"
            },
            "text/plain": "SynapseWidget(Synapse.DataFrame, 1f8a57ce-2a3b-453f-8ed4-cbbfb2901bc4)"
          },
          "metadata": {}
        }
      ],
      "execution_count": 63,
      "metadata": {
        "jupyter": {
          "source_hidden": false,
          "outputs_hidden": false
        },
        "nteract": {
          "transient": {
            "deleting": false
          }
        },
        "collapsed": false
      }
    },
    {
      "cell_type": "code",
      "source": [
        "Dim_Accounts.createOrReplaceTempView(\"dim_accounts\")\r\n",
        "Dim_Products.createOrReplaceTempView(\"dim_products\")\r\n",
        "Dim_Sales_Agent.createOrReplaceGlobalTempView(\"dim_sales_agent\")\r\n",
        "Dim_Sales_Pipeline.createOrReplaceGlobalTempView(\"dim_sales_pipeline\")\r\n",
        "Dim_time.createOrReplaceGlobalTempView(\"dim_time\")"
      ],
      "outputs": [
        {
          "output_type": "display_data",
          "data": {
            "application/vnd.livy.statement-meta+json": {
              "spark_pool": "Depi",
              "statement_id": 106,
              "statement_ids": [
                106
              ],
              "state": "finished",
              "livy_statement_state": "available",
              "spark_jobs": null,
              "session_id": "9",
              "normalized_state": "finished",
              "queued_time": "2024-10-17T15:27:02.8222325Z",
              "session_start_time": null,
              "execution_start_time": "2024-10-17T15:27:02.9462762Z",
              "execution_finish_time": "2024-10-17T15:27:03.1028718Z",
              "parent_msg_id": "1ef7e0c4-6bfc-4b43-bbc1-7fdf97654f50"
            },
            "text/plain": "StatementMeta(Depi, 9, 106, Finished, Available, Finished)"
          },
          "metadata": {}
        }
      ],
      "execution_count": 102,
      "metadata": {
        "jupyter": {
          "source_hidden": false,
          "outputs_hidden": false
        },
        "nteract": {
          "transient": {
            "deleting": false
          }
        }
      }
    },
    {
      "cell_type": "code",
      "source": [
        "Fact_Sales = spark.sql(\"\"\"\r\n",
        "SELECT\r\n",
        "    ROW_NUMBER() OVER (ORDER BY A.SrAccountID, P.SrProductID, SA.SrAgentID, SP.SrSalesID, T.timekey) FactSalesID,\r\n",
        "    A.SrAccountID,\r\n",
        "    P.SrProductID,\r\n",
        "    SA.SrAgentID,\r\n",
        "    SP.SrSalesID,\r\n",
        "    T.timekey,\r\n",
        "    P.sales_price,\r\n",
        "    P.Series,\r\n",
        "    A.SectorName,\r\n",
        "    A.revenue,\r\n",
        "    SP.deal_stage,\r\n",
        "    SP.engage,\r\n",
        "    SP.close_date,\r\n",
        "    SP.close_value\r\n",
        "FROM\r\n",
        "    dim_accounts A\r\n",
        "LEFT JOIN\r\n",
        "    dim_products P ON P.SrProductID = A.SrAccountID\r\n",
        "LEFT JOIN\r\n",
        "    dim_sales_agent SA ON SA.SrAgentID = A.SrAccountID\r\n",
        "LEFT JOIN\r\n",
        "    dim_sales_pipeline SP ON SP.SrSalesID = A.SrAccountID\r\n",
        "LEFT JOIN\r\n",
        "    dim_time T ON T.timekey = A.SrAccountID;\r\n",
        "\"\"\")\r\n",
        "\r\n",
        "display(Fact_Sales.limit(100))"
      ],
      "outputs": [
        {
          "output_type": "display_data",
          "data": {
            "application/vnd.livy.statement-meta+json": {
              "spark_pool": "Depi",
              "statement_id": 107,
              "statement_ids": [
                107
              ],
              "state": "finished",
              "livy_statement_state": "available",
              "spark_jobs": null,
              "session_id": "9",
              "normalized_state": "finished",
              "queued_time": "2024-10-17T15:27:12.7531441Z",
              "session_start_time": null,
              "execution_start_time": "2024-10-17T15:27:12.8751399Z",
              "execution_finish_time": "2024-10-17T15:27:13.9889777Z",
              "parent_msg_id": "8d20185d-6758-4e6c-a077-e0e1f07ab587"
            },
            "text/plain": "StatementMeta(Depi, 9, 107, Finished, Available, Finished)"
          },
          "metadata": {}
        },
        {
          "output_type": "error",
          "ename": "AnalysisException",
          "evalue": "[TABLE_OR_VIEW_NOT_FOUND] The table or view `dim_sales_agent` cannot be found. Verify the spelling and correctness of the schema and catalog.\nIf you did not qualify the name with a schema, verify the current_schema() output, or qualify the name with the correct schema and catalog.\nTo tolerate the error on drop use DROP VIEW IF EXISTS or DROP TABLE IF EXISTS.; line 22 pos 4;\n'Project [row_number() windowspecdefinition('A.SrAccountID ASC NULLS FIRST, 'P.SrProductID ASC NULLS FIRST, 'SA.SrAgentID ASC NULLS FIRST, 'SP.SrSalesID ASC NULLS FIRST, 'T.timekey ASC NULLS FIRST, specifiedwindowframe(RowFrame, unboundedpreceding$(), currentrow$())) AS FactSalesID#5153, 'A.SrAccountID, 'P.SrProductID, 'SA.SrAgentID, 'SP.SrSalesID, 'T.timekey, 'P.sales_price, 'P.Series, 'A.SectorName, 'A.revenue, 'SP.deal_stage, 'SP.engage, 'SP.close_date, 'SP.close_value]\n+- 'Join LeftOuter, ('T.timekey = 'A.SrAccountID)\n   :- 'Join LeftOuter, ('SP.SrSalesID = 'A.SrAccountID)\n   :  :- 'Join LeftOuter, ('SA.SrAgentID = 'A.SrAccountID)\n   :  :  :- Join LeftOuter, (SrProductID#5110 = SrAccountID#5098)\n   :  :  :  :- SubqueryAlias A\n   :  :  :  :  +- SubqueryAlias dim_accounts\n   :  :  :  :     +- View (`dim_accounts`, [SrAccountID#5098,AccountID#206,account#207,year_established#209,revenue#210,employees#211,Subsidary_of#5099,SectorName#273,OfficeLocation#231])\n   :  :  :  :        +- Project [SrAccountID#5098, AccountID#206, account#207, year_established#209, revenue#210, employees#211, Subsidary_of#5099, SectorName#273, OfficeLocation#231]\n   :  :  :  :           +- Project [AccountID#206, account#207, year_established#209, revenue#210, employees#211, Subsidary_of#5099, SectorName#273, OfficeLocation#231, MajorID#222, SrAccountID#5098, SrAccountID#5098]\n   :  :  :  :              +- Window [row_number() windowspecdefinition(AccountID#206 ASC NULLS FIRST, MajorID#222 ASC NULLS FIRST, specifiedwindowframe(RowFrame, unboundedpreceding$(), currentrow$())) AS SrAccountID#5098], [AccountID#206 ASC NULLS FIRST, MajorID#222 ASC NULLS FIRST]\n   :  :  :  :                 +- Project [AccountID#206, account#207, year_established#209, revenue#210, employees#211, coalesce(MajorName#223, Unknown) AS Subsidary_of#5099, SectorName#273, OfficeLocation#231, MajorID#222]\n   :  :  :  :                    +- Join LeftOuter, (OfficeID#230 = OfficeID#212)\n   :  :  :  :                       :- Join LeftOuter, (SectorID#272 = sectorID#208)\n   :  :  :  :                       :  :- Join LeftOuter, (MajorID#222 = subsidiary_of_ID#213)\n   :  :  :  :                       :  :  :- SubqueryAlias A\n   :  :  :  :                       :  :  :  +- SubqueryAlias accounts\n   :  :  :  :                       :  :  :     +- View (`accounts`, [AccountID#206,account#207,sectorID#208,year_established#209,revenue#210,employees#211,OfficeID#212,subsidiary_of_ID#213])\n   :  :  :  :                       :  :  :        +- Relation [AccountID#206,account#207,sectorID#208,year_established#209,revenue#210,employees#211,OfficeID#212,subsidiary_of_ID#213] parquet\n   :  :  :  :                       :  :  +- SubqueryAlias M\n   :  :  :  :                       :  :     +- SubqueryAlias major\n   :  :  :  :                       :  :        +- View (`major`, [MajorID#222,MajorName#223])\n   :  :  :  :                       :  :           +- Relation [MajorID#222,MajorName#223] parquet\n   :  :  :  :                       :  +- SubqueryAlias S\n   :  :  :  :                       :     +- SubqueryAlias sector\n   :  :  :  :                       :        +- View (`sector`, [SectorID#272,SectorName#273])\n   :  :  :  :                       :           +- Relation [SectorID#272,SectorName#273] parquet\n   :  :  :  :                       +- SubqueryAlias O\n   :  :  :  :                          +- SubqueryAlias office\n   :  :  :  :                             +- View (`office`, [OfficeID#230,OfficeLocation#231])\n   :  :  :  :                                +- Relation [OfficeID#230,OfficeLocation#231] parquet\n   :  :  :  +- SubqueryAlias P\n   :  :  :     +- SubqueryAlias dim_products\n   :  :  :        +- View (`dim_products`, [SrProductID#5110,ProductID#258,product#259,sales_price#260,Series#5111,EndDate#5119])\n   :  :  :           +- Project [SrProductID#5110, ProductID#258, product#259, sales_price#260, Series#5111, <lambda>()#5118 AS EndDate#5119]\n   :  :  :              +- Project [SrProductID#5110, ProductID#258, product#259, sales_price#260, Series#5111]\n   :  :  :                 +- Project [ProductID#258, product#259, sales_price#260, Series#5111, SeriesID#276, SrProductID#5110, SrProductID#5110]\n   :  :  :                    +- Window [row_number() windowspecdefinition(ProductID#258 ASC NULLS FIRST, SeriesID#276 ASC NULLS FIRST, specifiedwindowframe(RowFrame, unboundedpreceding$(), currentrow$())) AS SrProductID#5110], [ProductID#258 ASC NULLS FIRST, SeriesID#276 ASC NULLS FIRST]\n   :  :  :                       +- Project [ProductID#258, product#259, sales_price#260, SeriesName#277 AS Series#5111, SeriesID#276]\n   :  :  :                          +- Join LeftOuter, (SeriesID#276 = SeriesID#261)\n   :  :  :                             :- SubqueryAlias P\n   :  :  :                             :  +- SubqueryAlias product\n   :  :  :                             :     +- View (`product`, [ProductID#258,product#259,sales_price#260,SeriesID#261,StartDate#262])\n   :  :  :                             :        +- Relation [ProductID#258,product#259,sales_price#260,SeriesID#261,StartDate#262] parquet\n   :  :  :                             +- SubqueryAlias S\n   :  :  :                                +- SubqueryAlias series\n   :  :  :                                   +- View (`series`, [SeriesID#276,SeriesName#277])\n   :  :  :                                      +- Relation [SeriesID#276,SeriesName#277] parquet\n   :  :  +- 'SubqueryAlias SA\n   :  :     +- 'UnresolvedRelation [dim_sales_agent], [], false\n   :  +- 'SubqueryAlias SP\n   :     +- 'UnresolvedRelation [dim_sales_pipeline], [], false\n   +- 'SubqueryAlias T\n      +- 'UnresolvedRelation [dim_time], [], false\n",
          "traceback": [
            "\u001b[0;31m---------------------------------------------------------------------------\u001b[0m",
            "\u001b[0;31mAnalysisException\u001b[0m                         Traceback (most recent call last)",
            "Cell \u001b[0;32mIn[215], line 1\u001b[0m\n\u001b[0;32m----> 1\u001b[0m Fact_Sales \u001b[38;5;241m=\u001b[39m \u001b[43mspark\u001b[49m\u001b[38;5;241;43m.\u001b[39;49m\u001b[43msql\u001b[49m\u001b[43m(\u001b[49m\u001b[38;5;124;43m\"\"\"\u001b[39;49m\n\u001b[1;32m      2\u001b[0m \u001b[38;5;124;43mSELECT\u001b[39;49m\n\u001b[1;32m      3\u001b[0m \u001b[38;5;124;43m    ROW_NUMBER() OVER (ORDER BY A.SrAccountID, P.SrProductID, SA.SrAgentID, SP.SrSalesID, T.timekey) FactSalesID,\u001b[39;49m\n\u001b[1;32m      4\u001b[0m \u001b[38;5;124;43m    A.SrAccountID,\u001b[39;49m\n\u001b[1;32m      5\u001b[0m \u001b[38;5;124;43m    P.SrProductID,\u001b[39;49m\n\u001b[1;32m      6\u001b[0m \u001b[38;5;124;43m    SA.SrAgentID,\u001b[39;49m\n\u001b[1;32m      7\u001b[0m \u001b[38;5;124;43m    SP.SrSalesID,\u001b[39;49m\n\u001b[1;32m      8\u001b[0m \u001b[38;5;124;43m    T.timekey,\u001b[39;49m\n\u001b[1;32m      9\u001b[0m \u001b[38;5;124;43m    P.sales_price,\u001b[39;49m\n\u001b[1;32m     10\u001b[0m \u001b[38;5;124;43m    P.Series,\u001b[39;49m\n\u001b[1;32m     11\u001b[0m \u001b[38;5;124;43m    A.SectorName,\u001b[39;49m\n\u001b[1;32m     12\u001b[0m \u001b[38;5;124;43m    A.revenue,\u001b[39;49m\n\u001b[1;32m     13\u001b[0m \u001b[38;5;124;43m    SP.deal_stage,\u001b[39;49m\n\u001b[1;32m     14\u001b[0m \u001b[38;5;124;43m    SP.engage,\u001b[39;49m\n\u001b[1;32m     15\u001b[0m \u001b[38;5;124;43m    SP.close_date,\u001b[39;49m\n\u001b[1;32m     16\u001b[0m \u001b[38;5;124;43m    SP.close_value\u001b[39;49m\n\u001b[1;32m     17\u001b[0m \u001b[38;5;124;43mFROM\u001b[39;49m\n\u001b[1;32m     18\u001b[0m \u001b[38;5;124;43m    dim_accounts A\u001b[39;49m\n\u001b[1;32m     19\u001b[0m \u001b[38;5;124;43mLEFT JOIN\u001b[39;49m\n\u001b[1;32m     20\u001b[0m \u001b[38;5;124;43m    dim_products P ON P.SrProductID = A.SrAccountID\u001b[39;49m\n\u001b[1;32m     21\u001b[0m \u001b[38;5;124;43mLEFT JOIN\u001b[39;49m\n\u001b[1;32m     22\u001b[0m \u001b[38;5;124;43m    dim_sales_agent SA ON SA.SrAgentID = A.SrAccountID\u001b[39;49m\n\u001b[1;32m     23\u001b[0m \u001b[38;5;124;43mLEFT JOIN\u001b[39;49m\n\u001b[1;32m     24\u001b[0m \u001b[38;5;124;43m    dim_sales_pipeline SP ON SP.SrSalesID = A.SrAccountID\u001b[39;49m\n\u001b[1;32m     25\u001b[0m \u001b[38;5;124;43mLEFT JOIN\u001b[39;49m\n\u001b[1;32m     26\u001b[0m \u001b[38;5;124;43m    dim_time T ON T.timekey = A.SrAccountID;\u001b[39;49m\n\u001b[1;32m     27\u001b[0m \u001b[38;5;124;43m\"\"\"\u001b[39;49m\u001b[43m)\u001b[49m\n\u001b[1;32m     29\u001b[0m display(Fact_Sales\u001b[38;5;241m.\u001b[39mlimit(\u001b[38;5;241m100\u001b[39m))\n",
            "File \u001b[0;32m/opt/spark/python/lib/pyspark.zip/pyspark/sql/session.py:1440\u001b[0m, in \u001b[0;36mSparkSession.sql\u001b[0;34m(self, sqlQuery, args, **kwargs)\u001b[0m\n\u001b[1;32m   1438\u001b[0m \u001b[38;5;28;01mtry\u001b[39;00m:\n\u001b[1;32m   1439\u001b[0m     litArgs \u001b[38;5;241m=\u001b[39m {k: _to_java_column(lit(v)) \u001b[38;5;28;01mfor\u001b[39;00m k, v \u001b[38;5;129;01min\u001b[39;00m (args \u001b[38;5;129;01mor\u001b[39;00m {})\u001b[38;5;241m.\u001b[39mitems()}\n\u001b[0;32m-> 1440\u001b[0m     \u001b[38;5;28;01mreturn\u001b[39;00m DataFrame(\u001b[38;5;28;43mself\u001b[39;49m\u001b[38;5;241;43m.\u001b[39;49m\u001b[43m_jsparkSession\u001b[49m\u001b[38;5;241;43m.\u001b[39;49m\u001b[43msql\u001b[49m\u001b[43m(\u001b[49m\u001b[43msqlQuery\u001b[49m\u001b[43m,\u001b[49m\u001b[43m \u001b[49m\u001b[43mlitArgs\u001b[49m\u001b[43m)\u001b[49m, \u001b[38;5;28mself\u001b[39m)\n\u001b[1;32m   1441\u001b[0m \u001b[38;5;28;01mfinally\u001b[39;00m:\n\u001b[1;32m   1442\u001b[0m     \u001b[38;5;28;01mif\u001b[39;00m \u001b[38;5;28mlen\u001b[39m(kwargs) \u001b[38;5;241m>\u001b[39m \u001b[38;5;241m0\u001b[39m:\n",
            "File \u001b[0;32m~/cluster-env/env/lib/python3.10/site-packages/py4j/java_gateway.py:1322\u001b[0m, in \u001b[0;36mJavaMember.__call__\u001b[0;34m(self, *args)\u001b[0m\n\u001b[1;32m   1316\u001b[0m command \u001b[38;5;241m=\u001b[39m proto\u001b[38;5;241m.\u001b[39mCALL_COMMAND_NAME \u001b[38;5;241m+\u001b[39m\\\n\u001b[1;32m   1317\u001b[0m     \u001b[38;5;28mself\u001b[39m\u001b[38;5;241m.\u001b[39mcommand_header \u001b[38;5;241m+\u001b[39m\\\n\u001b[1;32m   1318\u001b[0m     args_command \u001b[38;5;241m+\u001b[39m\\\n\u001b[1;32m   1319\u001b[0m     proto\u001b[38;5;241m.\u001b[39mEND_COMMAND_PART\n\u001b[1;32m   1321\u001b[0m answer \u001b[38;5;241m=\u001b[39m \u001b[38;5;28mself\u001b[39m\u001b[38;5;241m.\u001b[39mgateway_client\u001b[38;5;241m.\u001b[39msend_command(command)\n\u001b[0;32m-> 1322\u001b[0m return_value \u001b[38;5;241m=\u001b[39m \u001b[43mget_return_value\u001b[49m\u001b[43m(\u001b[49m\n\u001b[1;32m   1323\u001b[0m \u001b[43m    \u001b[49m\u001b[43manswer\u001b[49m\u001b[43m,\u001b[49m\u001b[43m \u001b[49m\u001b[38;5;28;43mself\u001b[39;49m\u001b[38;5;241;43m.\u001b[39;49m\u001b[43mgateway_client\u001b[49m\u001b[43m,\u001b[49m\u001b[43m \u001b[49m\u001b[38;5;28;43mself\u001b[39;49m\u001b[38;5;241;43m.\u001b[39;49m\u001b[43mtarget_id\u001b[49m\u001b[43m,\u001b[49m\u001b[43m \u001b[49m\u001b[38;5;28;43mself\u001b[39;49m\u001b[38;5;241;43m.\u001b[39;49m\u001b[43mname\u001b[49m\u001b[43m)\u001b[49m\n\u001b[1;32m   1325\u001b[0m \u001b[38;5;28;01mfor\u001b[39;00m temp_arg \u001b[38;5;129;01min\u001b[39;00m temp_args:\n\u001b[1;32m   1326\u001b[0m     \u001b[38;5;28;01mif\u001b[39;00m \u001b[38;5;28mhasattr\u001b[39m(temp_arg, \u001b[38;5;124m\"\u001b[39m\u001b[38;5;124m_detach\u001b[39m\u001b[38;5;124m\"\u001b[39m):\n",
            "File \u001b[0;32m/opt/spark/python/lib/pyspark.zip/pyspark/errors/exceptions/captured.py:175\u001b[0m, in \u001b[0;36mcapture_sql_exception.<locals>.deco\u001b[0;34m(*a, **kw)\u001b[0m\n\u001b[1;32m    171\u001b[0m converted \u001b[38;5;241m=\u001b[39m convert_exception(e\u001b[38;5;241m.\u001b[39mjava_exception)\n\u001b[1;32m    172\u001b[0m \u001b[38;5;28;01mif\u001b[39;00m \u001b[38;5;129;01mnot\u001b[39;00m \u001b[38;5;28misinstance\u001b[39m(converted, UnknownException):\n\u001b[1;32m    173\u001b[0m     \u001b[38;5;66;03m# Hide where the exception came from that shows a non-Pythonic\u001b[39;00m\n\u001b[1;32m    174\u001b[0m     \u001b[38;5;66;03m# JVM exception message.\u001b[39;00m\n\u001b[0;32m--> 175\u001b[0m     \u001b[38;5;28;01mraise\u001b[39;00m converted \u001b[38;5;28;01mfrom\u001b[39;00m \u001b[38;5;28;01mNone\u001b[39;00m\n\u001b[1;32m    176\u001b[0m \u001b[38;5;28;01melse\u001b[39;00m:\n\u001b[1;32m    177\u001b[0m     \u001b[38;5;28;01mraise\u001b[39;00m\n",
            "\u001b[0;31mAnalysisException\u001b[0m: [TABLE_OR_VIEW_NOT_FOUND] The table or view `dim_sales_agent` cannot be found. Verify the spelling and correctness of the schema and catalog.\nIf you did not qualify the name with a schema, verify the current_schema() output, or qualify the name with the correct schema and catalog.\nTo tolerate the error on drop use DROP VIEW IF EXISTS or DROP TABLE IF EXISTS.; line 22 pos 4;\n'Project [row_number() windowspecdefinition('A.SrAccountID ASC NULLS FIRST, 'P.SrProductID ASC NULLS FIRST, 'SA.SrAgentID ASC NULLS FIRST, 'SP.SrSalesID ASC NULLS FIRST, 'T.timekey ASC NULLS FIRST, specifiedwindowframe(RowFrame, unboundedpreceding$(), currentrow$())) AS FactSalesID#5153, 'A.SrAccountID, 'P.SrProductID, 'SA.SrAgentID, 'SP.SrSalesID, 'T.timekey, 'P.sales_price, 'P.Series, 'A.SectorName, 'A.revenue, 'SP.deal_stage, 'SP.engage, 'SP.close_date, 'SP.close_value]\n+- 'Join LeftOuter, ('T.timekey = 'A.SrAccountID)\n   :- 'Join LeftOuter, ('SP.SrSalesID = 'A.SrAccountID)\n   :  :- 'Join LeftOuter, ('SA.SrAgentID = 'A.SrAccountID)\n   :  :  :- Join LeftOuter, (SrProductID#5110 = SrAccountID#5098)\n   :  :  :  :- SubqueryAlias A\n   :  :  :  :  +- SubqueryAlias dim_accounts\n   :  :  :  :     +- View (`dim_accounts`, [SrAccountID#5098,AccountID#206,account#207,year_established#209,revenue#210,employees#211,Subsidary_of#5099,SectorName#273,OfficeLocation#231])\n   :  :  :  :        +- Project [SrAccountID#5098, AccountID#206, account#207, year_established#209, revenue#210, employees#211, Subsidary_of#5099, SectorName#273, OfficeLocation#231]\n   :  :  :  :           +- Project [AccountID#206, account#207, year_established#209, revenue#210, employees#211, Subsidary_of#5099, SectorName#273, OfficeLocation#231, MajorID#222, SrAccountID#5098, SrAccountID#5098]\n   :  :  :  :              +- Window [row_number() windowspecdefinition(AccountID#206 ASC NULLS FIRST, MajorID#222 ASC NULLS FIRST, specifiedwindowframe(RowFrame, unboundedpreceding$(), currentrow$())) AS SrAccountID#5098], [AccountID#206 ASC NULLS FIRST, MajorID#222 ASC NULLS FIRST]\n   :  :  :  :                 +- Project [AccountID#206, account#207, year_established#209, revenue#210, employees#211, coalesce(MajorName#223, Unknown) AS Subsidary_of#5099, SectorName#273, OfficeLocation#231, MajorID#222]\n   :  :  :  :                    +- Join LeftOuter, (OfficeID#230 = OfficeID#212)\n   :  :  :  :                       :- Join LeftOuter, (SectorID#272 = sectorID#208)\n   :  :  :  :                       :  :- Join LeftOuter, (MajorID#222 = subsidiary_of_ID#213)\n   :  :  :  :                       :  :  :- SubqueryAlias A\n   :  :  :  :                       :  :  :  +- SubqueryAlias accounts\n   :  :  :  :                       :  :  :     +- View (`accounts`, [AccountID#206,account#207,sectorID#208,year_established#209,revenue#210,employees#211,OfficeID#212,subsidiary_of_ID#213])\n   :  :  :  :                       :  :  :        +- Relation [AccountID#206,account#207,sectorID#208,year_established#209,revenue#210,employees#211,OfficeID#212,subsidiary_of_ID#213] parquet\n   :  :  :  :                       :  :  +- SubqueryAlias M\n   :  :  :  :                       :  :     +- SubqueryAlias major\n   :  :  :  :                       :  :        +- View (`major`, [MajorID#222,MajorName#223])\n   :  :  :  :                       :  :           +- Relation [MajorID#222,MajorName#223] parquet\n   :  :  :  :                       :  +- SubqueryAlias S\n   :  :  :  :                       :     +- SubqueryAlias sector\n   :  :  :  :                       :        +- View (`sector`, [SectorID#272,SectorName#273])\n   :  :  :  :                       :           +- Relation [SectorID#272,SectorName#273] parquet\n   :  :  :  :                       +- SubqueryAlias O\n   :  :  :  :                          +- SubqueryAlias office\n   :  :  :  :                             +- View (`office`, [OfficeID#230,OfficeLocation#231])\n   :  :  :  :                                +- Relation [OfficeID#230,OfficeLocation#231] parquet\n   :  :  :  +- SubqueryAlias P\n   :  :  :     +- SubqueryAlias dim_products\n   :  :  :        +- View (`dim_products`, [SrProductID#5110,ProductID#258,product#259,sales_price#260,Series#5111,EndDate#5119])\n   :  :  :           +- Project [SrProductID#5110, ProductID#258, product#259, sales_price#260, Series#5111, <lambda>()#5118 AS EndDate#5119]\n   :  :  :              +- Project [SrProductID#5110, ProductID#258, product#259, sales_price#260, Series#5111]\n   :  :  :                 +- Project [ProductID#258, product#259, sales_price#260, Series#5111, SeriesID#276, SrProductID#5110, SrProductID#5110]\n   :  :  :                    +- Window [row_number() windowspecdefinition(ProductID#258 ASC NULLS FIRST, SeriesID#276 ASC NULLS FIRST, specifiedwindowframe(RowFrame, unboundedpreceding$(), currentrow$())) AS SrProductID#5110], [ProductID#258 ASC NULLS FIRST, SeriesID#276 ASC NULLS FIRST]\n   :  :  :                       +- Project [ProductID#258, product#259, sales_price#260, SeriesName#277 AS Series#5111, SeriesID#276]\n   :  :  :                          +- Join LeftOuter, (SeriesID#276 = SeriesID#261)\n   :  :  :                             :- SubqueryAlias P\n   :  :  :                             :  +- SubqueryAlias product\n   :  :  :                             :     +- View (`product`, [ProductID#258,product#259,sales_price#260,SeriesID#261,StartDate#262])\n   :  :  :                             :        +- Relation [ProductID#258,product#259,sales_price#260,SeriesID#261,StartDate#262] parquet\n   :  :  :                             +- SubqueryAlias S\n   :  :  :                                +- SubqueryAlias series\n   :  :  :                                   +- View (`series`, [SeriesID#276,SeriesName#277])\n   :  :  :                                      +- Relation [SeriesID#276,SeriesName#277] parquet\n   :  :  +- 'SubqueryAlias SA\n   :  :     +- 'UnresolvedRelation [dim_sales_agent], [], false\n   :  +- 'SubqueryAlias SP\n   :     +- 'UnresolvedRelation [dim_sales_pipeline], [], false\n   +- 'SubqueryAlias T\n      +- 'UnresolvedRelation [dim_time], [], false\n"
          ]
        }
      ],
      "execution_count": 103,
      "metadata": {
        "jupyter": {
          "source_hidden": false,
          "outputs_hidden": false
        },
        "nteract": {
          "transient": {
            "deleting": false
          }
        }
      }
    }
  ],
  "metadata": {
    "language_info": {
      "name": "python"
    },
    "kernelspec": {
      "name": "synapse_pyspark",
      "language": "Python",
      "display_name": "Synapse PySpark"
    },
    "kernel_info": {
      "name": "synapse_pyspark"
    },
    "description": "making the Dim and Fact tables and save them as parquet files",
    "save_output": true,
    "synapse_widget": {
      "version": "0.1",
      "state": {
        "a0ebf806-1fc4-445b-8f4b-b97f0ce37ebd": {
          "type": "Synapse.DataFrame",
          "sync_state": {
            "table": {
              "rows": [
                {
                  "0": "1",
                  "1": "1",
                  "2": "Acme Corporation",
                  "3": "1996",
                  "4": "1100.04",
                  "5": "2822",
                  "6": "Unknown",
                  "7": "technolgy",
                  "8": "United States"
                },
                {
                  "0": "2",
                  "1": "2",
                  "2": "Betasoloin",
                  "3": "1999",
                  "4": "251.41",
                  "5": "495",
                  "6": "Unknown",
                  "7": "medical",
                  "8": "United States"
                },
                {
                  "0": "3",
                  "1": "3",
                  "2": "Betatech",
                  "3": "1986",
                  "4": "647.18",
                  "5": "1185",
                  "6": "Unknown",
                  "7": "medical",
                  "8": "Kenya"
                },
                {
                  "0": "4",
                  "1": "4",
                  "2": "Bioholding",
                  "3": "2012",
                  "4": "587.34",
                  "5": "1356",
                  "6": "Unknown",
                  "7": "medical",
                  "8": "Philipines"
                },
                {
                  "0": "5",
                  "1": "5",
                  "2": "Bioplex",
                  "3": "1991",
                  "4": "326.82",
                  "5": "1016",
                  "6": "Unknown",
                  "7": "medical",
                  "8": "United States"
                },
                {
                  "0": "6",
                  "1": "6",
                  "2": "Blackzim",
                  "3": "2009",
                  "4": "497.11",
                  "5": "1588",
                  "6": "Unknown",
                  "7": "retail",
                  "8": "United States"
                },
                {
                  "0": "7",
                  "1": "7",
                  "2": "Bluth Company",
                  "3": "1993",
                  "4": "1242.32",
                  "5": "3027",
                  "6": "Acme Corporation",
                  "7": "technolgy",
                  "8": "United States"
                },
                {
                  "0": "8",
                  "1": "8",
                  "2": "Bubba Gump",
                  "3": "2002",
                  "4": "987.39",
                  "5": "2253",
                  "6": "Unknown",
                  "7": "software",
                  "8": "United States"
                },
                {
                  "0": "9",
                  "1": "9",
                  "2": "Cancity",
                  "3": "2001",
                  "4": "718.62",
                  "5": "2448",
                  "6": "Unknown",
                  "7": "retail",
                  "8": "United States"
                },
                {
                  "0": "10",
                  "1": "10",
                  "2": "Cheers",
                  "3": "1993",
                  "4": "4269.9",
                  "5": "6472",
                  "6": "Massive Dynamic",
                  "7": "entertainment",
                  "8": "United States"
                }
              ],
              "schema": [
                {
                  "key": "0",
                  "name": "SrAccountID",
                  "type": "int"
                },
                {
                  "key": "1",
                  "name": "AccountID",
                  "type": "int"
                },
                {
                  "key": "2",
                  "name": "account",
                  "type": "string"
                },
                {
                  "key": "3",
                  "name": "year_established",
                  "type": "int"
                },
                {
                  "key": "4",
                  "name": "revenue",
                  "type": "float"
                },
                {
                  "key": "5",
                  "name": "employees",
                  "type": "int"
                },
                {
                  "key": "6",
                  "name": "Subsidary_of",
                  "type": "string"
                },
                {
                  "key": "7",
                  "name": "SectorName",
                  "type": "string"
                },
                {
                  "key": "8",
                  "name": "OfficeLocation",
                  "type": "string"
                }
              ],
              "truncated": false
            },
            "isSummary": false,
            "language": "scala",
            "wranglerEntryContext": {
              "dataframeType": "pyspark"
            }
          },
          "persist_state": {
            "view": {
              "type": "details",
              "tableOptions": {},
              "chartOptions": {
                "chartType": "bar",
                "aggregationType": "sum",
                "categoryFieldKeys": [
                  "1"
                ],
                "seriesFieldKeys": [
                  "0"
                ],
                "isStacked": false
              }
            }
          }
        },
        "1f8a57ce-2a3b-453f-8ed4-cbbfb2901bc4": {
          "type": "Synapse.DataFrame",
          "sync_state": {
            "table": {
              "rows": [
                {
                  "0": "2020-01-01",
                  "1": "1",
                  "2": "4",
                  "3": "1",
                  "4": "1",
                  "5": "1",
                  "6": "January",
                  "7": "1",
                  "8": "2020",
                  "9": "1",
                  "10": "false",
                  "11": "false",
                  "12": "UnKnown"
                },
                {
                  "0": "2020-02-28",
                  "1": "2",
                  "2": "6",
                  "3": "28",
                  "4": "59",
                  "5": "2",
                  "6": "February",
                  "7": "1",
                  "8": "2020",
                  "9": "9",
                  "10": "false",
                  "11": "false",
                  "12": "UnKnown"
                },
                {
                  "0": "2020-04-10",
                  "1": "3",
                  "2": "6",
                  "3": "10",
                  "4": "101",
                  "5": "4",
                  "6": "April",
                  "7": "2",
                  "8": "2020",
                  "9": "15",
                  "10": "false",
                  "11": "false",
                  "12": "UnKnown"
                },
                {
                  "0": "2020-06-02",
                  "1": "4",
                  "2": "3",
                  "3": "2",
                  "4": "154",
                  "5": "6",
                  "6": "June",
                  "7": "2",
                  "8": "2020",
                  "9": "23",
                  "10": "false",
                  "11": "false",
                  "12": "UnKnown"
                },
                {
                  "0": "2020-08-26",
                  "1": "5",
                  "2": "4",
                  "3": "26",
                  "4": "239",
                  "5": "8",
                  "6": "August",
                  "7": "3",
                  "8": "2020",
                  "9": "35",
                  "10": "false",
                  "11": "false",
                  "12": "UnKnown"
                },
                {
                  "0": "2020-09-27",
                  "1": "6",
                  "2": "1",
                  "3": "27",
                  "4": "271",
                  "5": "9",
                  "6": "September",
                  "7": "3",
                  "8": "2020",
                  "9": "39",
                  "10": "true",
                  "11": "false",
                  "12": "UnKnown"
                },
                {
                  "0": "2020-10-16",
                  "1": "7",
                  "2": "6",
                  "3": "16",
                  "4": "290",
                  "5": "10",
                  "6": "October",
                  "7": "4",
                  "8": "2020",
                  "9": "42",
                  "10": "false",
                  "11": "false",
                  "12": "UnKnown"
                },
                {
                  "0": "2020-12-27",
                  "1": "8",
                  "2": "1",
                  "3": "27",
                  "4": "362",
                  "5": "12",
                  "6": "December",
                  "7": "4",
                  "8": "2020",
                  "9": "52",
                  "10": "true",
                  "11": "false",
                  "12": "UnKnown"
                },
                {
                  "0": "2021-06-04",
                  "1": "9",
                  "2": "6",
                  "3": "4",
                  "4": "155",
                  "5": "6",
                  "6": "June",
                  "7": "2",
                  "8": "2021",
                  "9": "22",
                  "10": "false",
                  "11": "false",
                  "12": "UnKnown"
                },
                {
                  "0": "2021-06-24",
                  "1": "10",
                  "2": "5",
                  "3": "24",
                  "4": "175",
                  "5": "6",
                  "6": "June",
                  "7": "2",
                  "8": "2021",
                  "9": "25",
                  "10": "false",
                  "11": "false",
                  "12": "UnKnown"
                },
                {
                  "0": "2021-07-09",
                  "1": "11",
                  "2": "6",
                  "3": "9",
                  "4": "190",
                  "5": "7",
                  "6": "July",
                  "7": "3",
                  "8": "2021",
                  "9": "27",
                  "10": "false",
                  "11": "false",
                  "12": "UnKnown"
                },
                {
                  "0": "2021-08-08",
                  "1": "12",
                  "2": "1",
                  "3": "8",
                  "4": "220",
                  "5": "8",
                  "6": "August",
                  "7": "3",
                  "8": "2021",
                  "9": "31",
                  "10": "true",
                  "11": "false",
                  "12": "UnKnown"
                },
                {
                  "0": "2021-08-15",
                  "1": "13",
                  "2": "1",
                  "3": "15",
                  "4": "227",
                  "5": "8",
                  "6": "August",
                  "7": "3",
                  "8": "2021",
                  "9": "32",
                  "10": "true",
                  "11": "false",
                  "12": "UnKnown"
                },
                {
                  "0": "2021-08-21",
                  "1": "14",
                  "2": "7",
                  "3": "21",
                  "4": "233",
                  "5": "8",
                  "6": "August",
                  "7": "3",
                  "8": "2021",
                  "9": "33",
                  "10": "true",
                  "11": "false",
                  "12": "UnKnown"
                },
                {
                  "0": "2021-10-22",
                  "1": "15",
                  "2": "6",
                  "3": "22",
                  "4": "295",
                  "5": "10",
                  "6": "October",
                  "7": "4",
                  "8": "2021",
                  "9": "42",
                  "10": "false",
                  "11": "false",
                  "12": "UnKnown"
                },
                {
                  "0": "2022-01-05",
                  "1": "16",
                  "2": "4",
                  "3": "5",
                  "4": "5",
                  "5": "1",
                  "6": "January",
                  "7": "1",
                  "8": "2022",
                  "9": "1",
                  "10": "false",
                  "11": "false",
                  "12": "UnKnown"
                },
                {
                  "0": "2022-03-21",
                  "1": "17",
                  "2": "2",
                  "3": "21",
                  "4": "80",
                  "5": "3",
                  "6": "March",
                  "7": "1",
                  "8": "2022",
                  "9": "12",
                  "10": "false",
                  "11": "false",
                  "12": "UnKnown"
                },
                {
                  "0": "2022-07-25",
                  "1": "18",
                  "2": "2",
                  "3": "25",
                  "4": "206",
                  "5": "7",
                  "6": "July",
                  "7": "3",
                  "8": "2022",
                  "9": "30",
                  "10": "false",
                  "11": "false",
                  "12": "UnKnown"
                },
                {
                  "0": "2022-08-07",
                  "1": "19",
                  "2": "1",
                  "3": "7",
                  "4": "219",
                  "5": "8",
                  "6": "August",
                  "7": "3",
                  "8": "2022",
                  "9": "31",
                  "10": "true",
                  "11": "false",
                  "12": "UnKnown"
                },
                {
                  "0": "2022-11-30",
                  "1": "20",
                  "2": "4",
                  "3": "30",
                  "4": "334",
                  "5": "11",
                  "6": "November",
                  "7": "4",
                  "8": "2022",
                  "9": "48",
                  "10": "false",
                  "11": "false",
                  "12": "UnKnown"
                }
              ],
              "schema": [
                {
                  "key": "0",
                  "name": "date",
                  "type": "string"
                },
                {
                  "key": "1",
                  "name": "timekey",
                  "type": "int"
                },
                {
                  "key": "2",
                  "name": "dayofweek",
                  "type": "int"
                },
                {
                  "key": "3",
                  "name": "dayofmonth",
                  "type": "int"
                },
                {
                  "key": "4",
                  "name": "dayofyear",
                  "type": "int"
                },
                {
                  "key": "5",
                  "name": "Month",
                  "type": "int"
                },
                {
                  "key": "6",
                  "name": "MonthName",
                  "type": "string"
                },
                {
                  "key": "7",
                  "name": "quarter",
                  "type": "int"
                },
                {
                  "key": "8",
                  "name": "Year",
                  "type": "int"
                },
                {
                  "key": "9",
                  "name": "WeekofYear",
                  "type": "int"
                },
                {
                  "key": "10",
                  "name": "ISWeekend",
                  "type": "boolean"
                },
                {
                  "key": "11",
                  "name": "ISHoliday",
                  "type": "boolean"
                },
                {
                  "key": "12",
                  "name": "HolidayName",
                  "type": "string"
                }
              ],
              "truncated": false
            },
            "isSummary": false,
            "language": "scala",
            "wranglerEntryContext": {
              "dataframeType": "pyspark"
            }
          },
          "persist_state": {
            "view": {
              "type": "details",
              "tableOptions": {},
              "chartOptions": {
                "chartType": "bar",
                "aggregationType": "sum",
                "categoryFieldKeys": [
                  "0"
                ],
                "seriesFieldKeys": [
                  "1"
                ],
                "isStacked": false
              }
            }
          }
        }
      }
    }
  },
  "nbformat": 4,
  "nbformat_minor": 2
}